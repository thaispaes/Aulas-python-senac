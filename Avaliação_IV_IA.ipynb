{
  "nbformat": 4,
  "nbformat_minor": 0,
  "metadata": {
    "colab": {
      "provenance": [],
      "toc_visible": true,
      "gpuType": "T4",
      "authorship_tag": "ABX9TyMai8RN8Yy5YtGM/HT1ZUGT",
      "include_colab_link": true
    },
    "kernelspec": {
      "name": "python3",
      "display_name": "Python 3"
    },
    "language_info": {
      "name": "python"
    },
    "accelerator": "GPU",
    "gpuClass": "standard"
  },
  "cells": [
    {
      "cell_type": "markdown",
      "metadata": {
        "id": "view-in-github",
        "colab_type": "text"
      },
      "source": [
        "<a href=\"https://colab.research.google.com/github/thaispaes/Aulas-python-senac/blob/main/Avalia%C3%A7%C3%A3o_IV_IA.ipynb\" target=\"_parent\"><img src=\"https://colab.research.google.com/assets/colab-badge.svg\" alt=\"Open In Colab\"/></a>"
      ]
    },
    {
      "cell_type": "markdown",
      "source": [
        "# Desafio de Classificação para Predição de Pedra nos Rins\n",
        "\n",
        "O desafio escolhido  foi um de classificação e predição para definir se um paciente tem a possibilidade de adquirir pedra nos rins de acordo com algumas informações do paciente.\n",
        "\n",
        "***Link do desafio:*** https://www.kaggle.com/competitions/playground-series-s3e12/overview\n",
        "\n",
        "*Integrantes da Equipe*: \n",
        "- Augusto Shigeru\n",
        "- Davi Freitas\n",
        "- Marcela Lins\n",
        "- Thais Regina\n"
      ],
      "metadata": {
        "id": "a31MQS_TWGWR"
      }
    },
    {
      "cell_type": "markdown",
      "source": [
        "#Importação das bibliotecas \n",
        "\n"
      ],
      "metadata": {
        "id": "px12JLlDYEFf"
      }
    },
    {
      "cell_type": "code",
      "execution_count": 67,
      "metadata": {
        "id": "qC5DhYBL573B"
      },
      "outputs": [],
      "source": [
        "#Importando Bibliotecas\n",
        "import pandas as pd\n",
        "import numpy as np \n",
        "\n",
        "import matplotlib.pyplot as plt\n",
        "\n",
        "import sklearn as sk"
      ]
    },
    {
      "cell_type": "markdown",
      "source": [
        "# Importação dos dados"
      ],
      "metadata": {
        "id": "2lzB131XYTE2"
      }
    },
    {
      "cell_type": "code",
      "source": [
        "#Importanto nosso Dataset de Treino\n",
        "train_table = pd.read_csv(\"/content/train.csv\", sep=\",\")"
      ],
      "metadata": {
        "id": "qDdG6v-3-S3b"
      },
      "execution_count": 68,
      "outputs": []
    },
    {
      "cell_type": "code",
      "source": [
        "train_table"
      ],
      "metadata": {
        "colab": {
          "base_uri": "https://localhost:8080/",
          "height": 424
        },
        "id": "jyTWwUDd-eg_",
        "outputId": "d6f6783a-23e5-43cb-e366-9535069e9fd0"
      },
      "execution_count": 69,
      "outputs": [
        {
          "output_type": "execute_result",
          "data": {
            "text/plain": [
              "      id  gravity    ph  osmo  cond  urea  calc  target\n",
              "0      0    1.013  6.19   443  14.8   124  1.45       0\n",
              "1      1    1.025  5.40   703  23.6   394  4.18       0\n",
              "2      2    1.009  6.13   371  24.5   159  9.04       0\n",
              "3      3    1.021  4.91   442  20.8   398  6.63       1\n",
              "4      4    1.021  5.53   874  17.8   385  2.21       1\n",
              "..   ...      ...   ...   ...   ...   ...   ...     ...\n",
              "409  409    1.011  5.21   527  21.4    75  1.53       0\n",
              "410  410    1.024  5.53   577  19.7   224  0.77       0\n",
              "411  411    1.018  6.28   455  22.2   270  7.68       1\n",
              "412  412    1.008  7.12   325  12.6    75  1.03       1\n",
              "413  413    1.011  6.13   364   9.9   159  0.27       0\n",
              "\n",
              "[414 rows x 8 columns]"
            ],
            "text/html": [
              "\n",
              "  <div id=\"df-a4f56aaa-fe0a-4a3e-a0e3-c803ebfe65e0\">\n",
              "    <div class=\"colab-df-container\">\n",
              "      <div>\n",
              "<style scoped>\n",
              "    .dataframe tbody tr th:only-of-type {\n",
              "        vertical-align: middle;\n",
              "    }\n",
              "\n",
              "    .dataframe tbody tr th {\n",
              "        vertical-align: top;\n",
              "    }\n",
              "\n",
              "    .dataframe thead th {\n",
              "        text-align: right;\n",
              "    }\n",
              "</style>\n",
              "<table border=\"1\" class=\"dataframe\">\n",
              "  <thead>\n",
              "    <tr style=\"text-align: right;\">\n",
              "      <th></th>\n",
              "      <th>id</th>\n",
              "      <th>gravity</th>\n",
              "      <th>ph</th>\n",
              "      <th>osmo</th>\n",
              "      <th>cond</th>\n",
              "      <th>urea</th>\n",
              "      <th>calc</th>\n",
              "      <th>target</th>\n",
              "    </tr>\n",
              "  </thead>\n",
              "  <tbody>\n",
              "    <tr>\n",
              "      <th>0</th>\n",
              "      <td>0</td>\n",
              "      <td>1.013</td>\n",
              "      <td>6.19</td>\n",
              "      <td>443</td>\n",
              "      <td>14.8</td>\n",
              "      <td>124</td>\n",
              "      <td>1.45</td>\n",
              "      <td>0</td>\n",
              "    </tr>\n",
              "    <tr>\n",
              "      <th>1</th>\n",
              "      <td>1</td>\n",
              "      <td>1.025</td>\n",
              "      <td>5.40</td>\n",
              "      <td>703</td>\n",
              "      <td>23.6</td>\n",
              "      <td>394</td>\n",
              "      <td>4.18</td>\n",
              "      <td>0</td>\n",
              "    </tr>\n",
              "    <tr>\n",
              "      <th>2</th>\n",
              "      <td>2</td>\n",
              "      <td>1.009</td>\n",
              "      <td>6.13</td>\n",
              "      <td>371</td>\n",
              "      <td>24.5</td>\n",
              "      <td>159</td>\n",
              "      <td>9.04</td>\n",
              "      <td>0</td>\n",
              "    </tr>\n",
              "    <tr>\n",
              "      <th>3</th>\n",
              "      <td>3</td>\n",
              "      <td>1.021</td>\n",
              "      <td>4.91</td>\n",
              "      <td>442</td>\n",
              "      <td>20.8</td>\n",
              "      <td>398</td>\n",
              "      <td>6.63</td>\n",
              "      <td>1</td>\n",
              "    </tr>\n",
              "    <tr>\n",
              "      <th>4</th>\n",
              "      <td>4</td>\n",
              "      <td>1.021</td>\n",
              "      <td>5.53</td>\n",
              "      <td>874</td>\n",
              "      <td>17.8</td>\n",
              "      <td>385</td>\n",
              "      <td>2.21</td>\n",
              "      <td>1</td>\n",
              "    </tr>\n",
              "    <tr>\n",
              "      <th>...</th>\n",
              "      <td>...</td>\n",
              "      <td>...</td>\n",
              "      <td>...</td>\n",
              "      <td>...</td>\n",
              "      <td>...</td>\n",
              "      <td>...</td>\n",
              "      <td>...</td>\n",
              "      <td>...</td>\n",
              "    </tr>\n",
              "    <tr>\n",
              "      <th>409</th>\n",
              "      <td>409</td>\n",
              "      <td>1.011</td>\n",
              "      <td>5.21</td>\n",
              "      <td>527</td>\n",
              "      <td>21.4</td>\n",
              "      <td>75</td>\n",
              "      <td>1.53</td>\n",
              "      <td>0</td>\n",
              "    </tr>\n",
              "    <tr>\n",
              "      <th>410</th>\n",
              "      <td>410</td>\n",
              "      <td>1.024</td>\n",
              "      <td>5.53</td>\n",
              "      <td>577</td>\n",
              "      <td>19.7</td>\n",
              "      <td>224</td>\n",
              "      <td>0.77</td>\n",
              "      <td>0</td>\n",
              "    </tr>\n",
              "    <tr>\n",
              "      <th>411</th>\n",
              "      <td>411</td>\n",
              "      <td>1.018</td>\n",
              "      <td>6.28</td>\n",
              "      <td>455</td>\n",
              "      <td>22.2</td>\n",
              "      <td>270</td>\n",
              "      <td>7.68</td>\n",
              "      <td>1</td>\n",
              "    </tr>\n",
              "    <tr>\n",
              "      <th>412</th>\n",
              "      <td>412</td>\n",
              "      <td>1.008</td>\n",
              "      <td>7.12</td>\n",
              "      <td>325</td>\n",
              "      <td>12.6</td>\n",
              "      <td>75</td>\n",
              "      <td>1.03</td>\n",
              "      <td>1</td>\n",
              "    </tr>\n",
              "    <tr>\n",
              "      <th>413</th>\n",
              "      <td>413</td>\n",
              "      <td>1.011</td>\n",
              "      <td>6.13</td>\n",
              "      <td>364</td>\n",
              "      <td>9.9</td>\n",
              "      <td>159</td>\n",
              "      <td>0.27</td>\n",
              "      <td>0</td>\n",
              "    </tr>\n",
              "  </tbody>\n",
              "</table>\n",
              "<p>414 rows × 8 columns</p>\n",
              "</div>\n",
              "      <button class=\"colab-df-convert\" onclick=\"convertToInteractive('df-a4f56aaa-fe0a-4a3e-a0e3-c803ebfe65e0')\"\n",
              "              title=\"Convert this dataframe to an interactive table.\"\n",
              "              style=\"display:none;\">\n",
              "        \n",
              "  <svg xmlns=\"http://www.w3.org/2000/svg\" height=\"24px\"viewBox=\"0 0 24 24\"\n",
              "       width=\"24px\">\n",
              "    <path d=\"M0 0h24v24H0V0z\" fill=\"none\"/>\n",
              "    <path d=\"M18.56 5.44l.94 2.06.94-2.06 2.06-.94-2.06-.94-.94-2.06-.94 2.06-2.06.94zm-11 1L8.5 8.5l.94-2.06 2.06-.94-2.06-.94L8.5 2.5l-.94 2.06-2.06.94zm10 10l.94 2.06.94-2.06 2.06-.94-2.06-.94-.94-2.06-.94 2.06-2.06.94z\"/><path d=\"M17.41 7.96l-1.37-1.37c-.4-.4-.92-.59-1.43-.59-.52 0-1.04.2-1.43.59L10.3 9.45l-7.72 7.72c-.78.78-.78 2.05 0 2.83L4 21.41c.39.39.9.59 1.41.59.51 0 1.02-.2 1.41-.59l7.78-7.78 2.81-2.81c.8-.78.8-2.07 0-2.86zM5.41 20L4 18.59l7.72-7.72 1.47 1.35L5.41 20z\"/>\n",
              "  </svg>\n",
              "      </button>\n",
              "      \n",
              "  <style>\n",
              "    .colab-df-container {\n",
              "      display:flex;\n",
              "      flex-wrap:wrap;\n",
              "      gap: 12px;\n",
              "    }\n",
              "\n",
              "    .colab-df-convert {\n",
              "      background-color: #E8F0FE;\n",
              "      border: none;\n",
              "      border-radius: 50%;\n",
              "      cursor: pointer;\n",
              "      display: none;\n",
              "      fill: #1967D2;\n",
              "      height: 32px;\n",
              "      padding: 0 0 0 0;\n",
              "      width: 32px;\n",
              "    }\n",
              "\n",
              "    .colab-df-convert:hover {\n",
              "      background-color: #E2EBFA;\n",
              "      box-shadow: 0px 1px 2px rgba(60, 64, 67, 0.3), 0px 1px 3px 1px rgba(60, 64, 67, 0.15);\n",
              "      fill: #174EA6;\n",
              "    }\n",
              "\n",
              "    [theme=dark] .colab-df-convert {\n",
              "      background-color: #3B4455;\n",
              "      fill: #D2E3FC;\n",
              "    }\n",
              "\n",
              "    [theme=dark] .colab-df-convert:hover {\n",
              "      background-color: #434B5C;\n",
              "      box-shadow: 0px 1px 3px 1px rgba(0, 0, 0, 0.15);\n",
              "      filter: drop-shadow(0px 1px 2px rgba(0, 0, 0, 0.3));\n",
              "      fill: #FFFFFF;\n",
              "    }\n",
              "  </style>\n",
              "\n",
              "      <script>\n",
              "        const buttonEl =\n",
              "          document.querySelector('#df-a4f56aaa-fe0a-4a3e-a0e3-c803ebfe65e0 button.colab-df-convert');\n",
              "        buttonEl.style.display =\n",
              "          google.colab.kernel.accessAllowed ? 'block' : 'none';\n",
              "\n",
              "        async function convertToInteractive(key) {\n",
              "          const element = document.querySelector('#df-a4f56aaa-fe0a-4a3e-a0e3-c803ebfe65e0');\n",
              "          const dataTable =\n",
              "            await google.colab.kernel.invokeFunction('convertToInteractive',\n",
              "                                                     [key], {});\n",
              "          if (!dataTable) return;\n",
              "\n",
              "          const docLinkHtml = 'Like what you see? Visit the ' +\n",
              "            '<a target=\"_blank\" href=https://colab.research.google.com/notebooks/data_table.ipynb>data table notebook</a>'\n",
              "            + ' to learn more about interactive tables.';\n",
              "          element.innerHTML = '';\n",
              "          dataTable['output_type'] = 'display_data';\n",
              "          await google.colab.output.renderOutput(dataTable, element);\n",
              "          const docLink = document.createElement('div');\n",
              "          docLink.innerHTML = docLinkHtml;\n",
              "          element.appendChild(docLink);\n",
              "        }\n",
              "      </script>\n",
              "    </div>\n",
              "  </div>\n",
              "  "
            ]
          },
          "metadata": {},
          "execution_count": 69
        }
      ]
    },
    {
      "cell_type": "markdown",
      "source": [
        "#Classificação da base de teste\n",
        "\n",
        "Analisando nossa base de dados, temos uma coleção de informações medicas sobre a situação de pacientes que estão com cálculo renal. Os dados observados são *Gravidade da situação, Ph Osmose e Condição dos rins, Ureia e Calculo do tamanho da pedra*, informações obtidas apartir da análise de urina. \n",
        "\n",
        "Usando essa base, vamos poder criar os modelos para que preveja se uma pessoa tem ou não cálculo renal."
      ],
      "metadata": {
        "id": "HYZJDDREBKrQ"
      }
    },
    {
      "cell_type": "markdown",
      "source": [
        "Retirando o ID para que não atrapalhe no treino, já que analisando o Dataset, os campos importantes para nosso treino são as colunas de \"*gravity ph osmo cond urea\tcalc target*\" que fornecem informações importantes sobre os pacientes para a predição."
      ],
      "metadata": {
        "id": "wjAUiy3OYkRX"
      }
    },
    {
      "cell_type": "code",
      "source": [
        "train_table=train_table.drop(\"id\",axis=1)"
      ],
      "metadata": {
        "id": "l4KZHdkB-gav"
      },
      "execution_count": 70,
      "outputs": []
    },
    {
      "cell_type": "code",
      "source": [
        "#Verificação de valores nulos\n",
        "display(train_table.info())"
      ],
      "metadata": {
        "colab": {
          "base_uri": "https://localhost:8080/",
          "height": 277
        },
        "id": "xHSYPQ7o_jA1",
        "outputId": "1d217ad0-966b-4adc-9f9c-53136211bd33"
      },
      "execution_count": 71,
      "outputs": [
        {
          "output_type": "stream",
          "name": "stdout",
          "text": [
            "<class 'pandas.core.frame.DataFrame'>\n",
            "RangeIndex: 414 entries, 0 to 413\n",
            "Data columns (total 7 columns):\n",
            " #   Column   Non-Null Count  Dtype  \n",
            "---  ------   --------------  -----  \n",
            " 0   gravity  414 non-null    float64\n",
            " 1   ph       414 non-null    float64\n",
            " 2   osmo     414 non-null    int64  \n",
            " 3   cond     414 non-null    float64\n",
            " 4   urea     414 non-null    int64  \n",
            " 5   calc     414 non-null    float64\n",
            " 6   target   414 non-null    int64  \n",
            "dtypes: float64(4), int64(3)\n",
            "memory usage: 22.8 KB\n"
          ]
        },
        {
          "output_type": "display_data",
          "data": {
            "text/plain": [
              "None"
            ]
          },
          "metadata": {}
        }
      ]
    },
    {
      "cell_type": "code",
      "source": [
        "#Verificando a distribuição da variável resposta (Quantos Tem ou não tem)\n",
        "quant = train_table['target'].value_counts()\n",
        "print(quant)"
      ],
      "metadata": {
        "colab": {
          "base_uri": "https://localhost:8080/"
        },
        "id": "mpRnUTR7a8zs",
        "outputId": "e38645e7-2b8b-4eb8-e30b-cd724b6f42fd"
      },
      "execution_count": 72,
      "outputs": [
        {
          "output_type": "stream",
          "name": "stdout",
          "text": [
            "0    230\n",
            "1    184\n",
            "Name: target, dtype: int64\n"
          ]
        }
      ]
    },
    {
      "cell_type": "code",
      "source": [
        "#Verificando as colunas para separar o X e o Y\n",
        "train_table.head()"
      ],
      "metadata": {
        "colab": {
          "base_uri": "https://localhost:8080/",
          "height": 206
        },
        "id": "l_zml5ICBPfR",
        "outputId": "f243999c-ad09-47f7-aba9-29d824f1d19e"
      },
      "execution_count": 73,
      "outputs": [
        {
          "output_type": "execute_result",
          "data": {
            "text/plain": [
              "   gravity    ph  osmo  cond  urea  calc  target\n",
              "0    1.013  6.19   443  14.8   124  1.45       0\n",
              "1    1.025  5.40   703  23.6   394  4.18       0\n",
              "2    1.009  6.13   371  24.5   159  9.04       0\n",
              "3    1.021  4.91   442  20.8   398  6.63       1\n",
              "4    1.021  5.53   874  17.8   385  2.21       1"
            ],
            "text/html": [
              "\n",
              "  <div id=\"df-bb4249c4-2b69-4e84-b77c-eae2503d2fb3\">\n",
              "    <div class=\"colab-df-container\">\n",
              "      <div>\n",
              "<style scoped>\n",
              "    .dataframe tbody tr th:only-of-type {\n",
              "        vertical-align: middle;\n",
              "    }\n",
              "\n",
              "    .dataframe tbody tr th {\n",
              "        vertical-align: top;\n",
              "    }\n",
              "\n",
              "    .dataframe thead th {\n",
              "        text-align: right;\n",
              "    }\n",
              "</style>\n",
              "<table border=\"1\" class=\"dataframe\">\n",
              "  <thead>\n",
              "    <tr style=\"text-align: right;\">\n",
              "      <th></th>\n",
              "      <th>gravity</th>\n",
              "      <th>ph</th>\n",
              "      <th>osmo</th>\n",
              "      <th>cond</th>\n",
              "      <th>urea</th>\n",
              "      <th>calc</th>\n",
              "      <th>target</th>\n",
              "    </tr>\n",
              "  </thead>\n",
              "  <tbody>\n",
              "    <tr>\n",
              "      <th>0</th>\n",
              "      <td>1.013</td>\n",
              "      <td>6.19</td>\n",
              "      <td>443</td>\n",
              "      <td>14.8</td>\n",
              "      <td>124</td>\n",
              "      <td>1.45</td>\n",
              "      <td>0</td>\n",
              "    </tr>\n",
              "    <tr>\n",
              "      <th>1</th>\n",
              "      <td>1.025</td>\n",
              "      <td>5.40</td>\n",
              "      <td>703</td>\n",
              "      <td>23.6</td>\n",
              "      <td>394</td>\n",
              "      <td>4.18</td>\n",
              "      <td>0</td>\n",
              "    </tr>\n",
              "    <tr>\n",
              "      <th>2</th>\n",
              "      <td>1.009</td>\n",
              "      <td>6.13</td>\n",
              "      <td>371</td>\n",
              "      <td>24.5</td>\n",
              "      <td>159</td>\n",
              "      <td>9.04</td>\n",
              "      <td>0</td>\n",
              "    </tr>\n",
              "    <tr>\n",
              "      <th>3</th>\n",
              "      <td>1.021</td>\n",
              "      <td>4.91</td>\n",
              "      <td>442</td>\n",
              "      <td>20.8</td>\n",
              "      <td>398</td>\n",
              "      <td>6.63</td>\n",
              "      <td>1</td>\n",
              "    </tr>\n",
              "    <tr>\n",
              "      <th>4</th>\n",
              "      <td>1.021</td>\n",
              "      <td>5.53</td>\n",
              "      <td>874</td>\n",
              "      <td>17.8</td>\n",
              "      <td>385</td>\n",
              "      <td>2.21</td>\n",
              "      <td>1</td>\n",
              "    </tr>\n",
              "  </tbody>\n",
              "</table>\n",
              "</div>\n",
              "      <button class=\"colab-df-convert\" onclick=\"convertToInteractive('df-bb4249c4-2b69-4e84-b77c-eae2503d2fb3')\"\n",
              "              title=\"Convert this dataframe to an interactive table.\"\n",
              "              style=\"display:none;\">\n",
              "        \n",
              "  <svg xmlns=\"http://www.w3.org/2000/svg\" height=\"24px\"viewBox=\"0 0 24 24\"\n",
              "       width=\"24px\">\n",
              "    <path d=\"M0 0h24v24H0V0z\" fill=\"none\"/>\n",
              "    <path d=\"M18.56 5.44l.94 2.06.94-2.06 2.06-.94-2.06-.94-.94-2.06-.94 2.06-2.06.94zm-11 1L8.5 8.5l.94-2.06 2.06-.94-2.06-.94L8.5 2.5l-.94 2.06-2.06.94zm10 10l.94 2.06.94-2.06 2.06-.94-2.06-.94-.94-2.06-.94 2.06-2.06.94z\"/><path d=\"M17.41 7.96l-1.37-1.37c-.4-.4-.92-.59-1.43-.59-.52 0-1.04.2-1.43.59L10.3 9.45l-7.72 7.72c-.78.78-.78 2.05 0 2.83L4 21.41c.39.39.9.59 1.41.59.51 0 1.02-.2 1.41-.59l7.78-7.78 2.81-2.81c.8-.78.8-2.07 0-2.86zM5.41 20L4 18.59l7.72-7.72 1.47 1.35L5.41 20z\"/>\n",
              "  </svg>\n",
              "      </button>\n",
              "      \n",
              "  <style>\n",
              "    .colab-df-container {\n",
              "      display:flex;\n",
              "      flex-wrap:wrap;\n",
              "      gap: 12px;\n",
              "    }\n",
              "\n",
              "    .colab-df-convert {\n",
              "      background-color: #E8F0FE;\n",
              "      border: none;\n",
              "      border-radius: 50%;\n",
              "      cursor: pointer;\n",
              "      display: none;\n",
              "      fill: #1967D2;\n",
              "      height: 32px;\n",
              "      padding: 0 0 0 0;\n",
              "      width: 32px;\n",
              "    }\n",
              "\n",
              "    .colab-df-convert:hover {\n",
              "      background-color: #E2EBFA;\n",
              "      box-shadow: 0px 1px 2px rgba(60, 64, 67, 0.3), 0px 1px 3px 1px rgba(60, 64, 67, 0.15);\n",
              "      fill: #174EA6;\n",
              "    }\n",
              "\n",
              "    [theme=dark] .colab-df-convert {\n",
              "      background-color: #3B4455;\n",
              "      fill: #D2E3FC;\n",
              "    }\n",
              "\n",
              "    [theme=dark] .colab-df-convert:hover {\n",
              "      background-color: #434B5C;\n",
              "      box-shadow: 0px 1px 3px 1px rgba(0, 0, 0, 0.15);\n",
              "      filter: drop-shadow(0px 1px 2px rgba(0, 0, 0, 0.3));\n",
              "      fill: #FFFFFF;\n",
              "    }\n",
              "  </style>\n",
              "\n",
              "      <script>\n",
              "        const buttonEl =\n",
              "          document.querySelector('#df-bb4249c4-2b69-4e84-b77c-eae2503d2fb3 button.colab-df-convert');\n",
              "        buttonEl.style.display =\n",
              "          google.colab.kernel.accessAllowed ? 'block' : 'none';\n",
              "\n",
              "        async function convertToInteractive(key) {\n",
              "          const element = document.querySelector('#df-bb4249c4-2b69-4e84-b77c-eae2503d2fb3');\n",
              "          const dataTable =\n",
              "            await google.colab.kernel.invokeFunction('convertToInteractive',\n",
              "                                                     [key], {});\n",
              "          if (!dataTable) return;\n",
              "\n",
              "          const docLinkHtml = 'Like what you see? Visit the ' +\n",
              "            '<a target=\"_blank\" href=https://colab.research.google.com/notebooks/data_table.ipynb>data table notebook</a>'\n",
              "            + ' to learn more about interactive tables.';\n",
              "          element.innerHTML = '';\n",
              "          dataTable['output_type'] = 'display_data';\n",
              "          await google.colab.output.renderOutput(dataTable, element);\n",
              "          const docLink = document.createElement('div');\n",
              "          docLink.innerHTML = docLinkHtml;\n",
              "          element.appendChild(docLink);\n",
              "        }\n",
              "      </script>\n",
              "    </div>\n",
              "  </div>\n",
              "  "
            ]
          },
          "metadata": {},
          "execution_count": 73
        }
      ]
    },
    {
      "cell_type": "code",
      "source": [
        "X = train_table[['gravity','ph','osmo','cond','urea','calc']] #Esses são as variáveis que estão relacionadas com a nossa saída\n",
        "y = train_table[['target']] #Saída/Resposta esperada"
      ],
      "metadata": {
        "id": "hT2lmSfFBUJv"
      },
      "execution_count": 74,
      "outputs": []
    },
    {
      "cell_type": "markdown",
      "source": [
        "#Classificações e Modelos\n",
        "\n",
        "Usamos **3 classificadores**: \n",
        "\n",
        "\n",
        "*   Random Forest\n",
        "*   Árvore de Decisão \n",
        "*   KNN\n",
        "\n",
        "Para o **treino** separamos 75% dos dados e 25% foi para **teste** do modelo para medirmos a precisão e a acurácia.\n",
        "\n",
        "\n",
        "\n",
        "\n"
      ],
      "metadata": {
        "id": "0L1MFvBRAIQh"
      }
    },
    {
      "cell_type": "code",
      "source": [
        "#Lista para salvar o resultado dos treinos \n",
        "acuracia_modelo1 = []\n",
        "acuracia_modelo2 = []\n",
        "acuracia_modelo3 = []\n",
        "\n",
        "precisao_modelo1 = []\n",
        "precisao_modelo2 = []\n",
        "precisao_modelo3 = []"
      ],
      "metadata": {
        "id": "UNyYJ0jnAhgv"
      },
      "execution_count": 75,
      "outputs": []
    },
    {
      "cell_type": "markdown",
      "source": [
        "Treinando os Modelos"
      ],
      "metadata": {
        "id": "7ykJUFGYcnNS"
      }
    },
    {
      "cell_type": "code",
      "source": [
        "#Definindo a execução do nosso teste, setando 75% de treino e 25% de teste\n",
        "train_size = 0.75\n",
        "iteracoes = 25\n",
        "\n",
        "#Treino\n",
        "for i in range(iteracoes):\n",
        "\n",
        "    X_treino, X_teste, y_treino, y_teste = sk.model_selection.train_test_split(X, y, train_size = train_size)\n",
        "\n",
        "    #Modelo 1 = Random Forest \n",
        "    model1 = sk.ensemble.RandomForestClassifier()\n",
        "    model1.fit(X_treino, y_treino)\n",
        "\n",
        "    #Modelo 2 =  Árvore de Decisão\n",
        "    model2 = sk.tree.DecisionTreeClassifier()\n",
        "    model2.fit(X_treino, y_treino)\n",
        "\n",
        "    #Modelo 3 = KNN \n",
        "    model3 = sk.neighbors.KNeighborsClassifier(n_neighbors=6)\n",
        "    model3.fit(X_treino, y_treino)\n",
        "\n",
        "    #Avaliação dos Modelos ou Teste\n",
        "    predict1 = model1.predict(X_teste)\n",
        "    acuracia_modelo1.append(sk.metrics.accuracy_score(y_teste, predict1))\n",
        "    precisao_modelo1.append(sk.metrics.precision_score(y_teste, predict1))\n",
        "\n",
        "    predict2 = model2.predict(X_teste)\n",
        "    acuracia_modelo2.append(sk.metrics.accuracy_score(y_teste, predict2))\n",
        "    precisao_modelo2.append(sk.metrics.precision_score(y_teste, predict2))\n",
        "\n",
        "    predict3 = model3.predict(X_teste)\n",
        "    acuracia_modelo3.append(sk.metrics.accuracy_score(y_teste, predict3))\n",
        "    precisao_modelo3.append(sk.metrics.precision_score(y_teste, predict3))\n"
      ],
      "metadata": {
        "id": "eAxQHfrm_X89"
      },
      "execution_count": null,
      "outputs": []
    },
    {
      "cell_type": "markdown",
      "source": [
        "#Avaliação \n",
        "\n",
        "Após testar e treinar nossos modelos, vamos agora poder analisar qual se saiu melhor com base nos dados que temos."
      ],
      "metadata": {
        "id": "UtZg_0kcFZmL"
      }
    },
    {
      "cell_type": "code",
      "source": [
        "#Verificando a Acurácia dos modelos usados\n",
        "\n",
        "print('Média acurácia modelo 1:')\n",
        "print(np.round(np.mean(acuracia_modelo1),2))\n",
        "print('Média acurácia modelo 2:')\n",
        "print(np.round(np.mean(acuracia_modelo2),2))\n",
        "print('Média acurácia modelo 3:')\n",
        "print(np.round(np.mean(acuracia_modelo3),2))"
      ],
      "metadata": {
        "colab": {
          "base_uri": "https://localhost:8080/"
        },
        "id": "lbfYUE_FFZTv",
        "outputId": "45b37e6a-fc84-4443-f977-57cbc243b1bb"
      },
      "execution_count": 77,
      "outputs": [
        {
          "output_type": "stream",
          "name": "stdout",
          "text": [
            "Média acurácia modelo 1:\n",
            "0.73\n",
            "Média acurácia modelo 2:\n",
            "0.65\n",
            "Média acurácia modelo 3:\n",
            "0.61\n"
          ]
        }
      ]
    },
    {
      "cell_type": "code",
      "source": [
        "#Verificando a Precisão dos modelos usados\n",
        "\n",
        "print('Média precisão modelo 1:')\n",
        "print(np.round(np.mean(precisao_modelo1),2))\n",
        "print('Média precisão modelo 2:')\n",
        "print(np.round(np.mean(precisao_modelo2),2))\n",
        "print('Média precisão modelo 3:')\n",
        "print(np.round(np.mean(precisao_modelo3),2))"
      ],
      "metadata": {
        "colab": {
          "base_uri": "https://localhost:8080/"
        },
        "id": "duj-GAJlAf0B",
        "outputId": "e4703460-01ef-4318-95ec-cff15bc6bedd"
      },
      "execution_count": 78,
      "outputs": [
        {
          "output_type": "stream",
          "name": "stdout",
          "text": [
            "Média precisão modelo 1:\n",
            "0.71\n",
            "Média precisão modelo 2:\n",
            "0.61\n",
            "Média precisão modelo 3:\n",
            "0.59\n"
          ]
        }
      ]
    },
    {
      "cell_type": "markdown",
      "source": [
        "#Predição com o modelo de Melhor Desempenho\n",
        "\n",
        "Analisando os resultados acima, foi possivel observar qual modelo se saiu melhor no treinamento, e com bas nisso vamos comçar nossa predição."
      ],
      "metadata": {
        "id": "-QgSxKtkITKX"
      }
    },
    {
      "cell_type": "code",
      "source": [
        "#Importando nosso teste\n",
        "base_test = pd.read_csv(\"/content/test.csv\", sep=\",\") \n",
        "\n",
        "#Descobrindo colunas do teste\n",
        "base_test.info()"
      ],
      "metadata": {
        "colab": {
          "base_uri": "https://localhost:8080/"
        },
        "id": "7Z5q74GbLV4d",
        "outputId": "0fe9fbbb-b528-4083-e1d2-0c8ac66f7fc0"
      },
      "execution_count": 79,
      "outputs": [
        {
          "output_type": "stream",
          "name": "stdout",
          "text": [
            "<class 'pandas.core.frame.DataFrame'>\n",
            "RangeIndex: 276 entries, 0 to 275\n",
            "Data columns (total 7 columns):\n",
            " #   Column   Non-Null Count  Dtype  \n",
            "---  ------   --------------  -----  \n",
            " 0   id       276 non-null    int64  \n",
            " 1   gravity  276 non-null    float64\n",
            " 2   ph       276 non-null    float64\n",
            " 3   osmo     276 non-null    int64  \n",
            " 4   cond     276 non-null    float64\n",
            " 5   urea     276 non-null    int64  \n",
            " 6   calc     276 non-null    float64\n",
            "dtypes: float64(4), int64(3)\n",
            "memory usage: 15.2 KB\n"
          ]
        }
      ]
    },
    {
      "cell_type": "code",
      "source": [
        "#Formando resposta da predição e salvando o resultado (Target) numa lista para posterior utilização\n",
        "target = [] #Lista do target\n",
        "\n",
        "for i in range(276): #Informamos para que percorra todo o arquivo de teste\n",
        "    pacientes = [[base_test['gravity'][i],base_test['ph'][i],base_test['osmo'][i],base_test['cond'][i], \n",
        "                  base_test['urea'][i],base_test['calc'][i]]] #Criamos uma array 2d para armazenas nossas variáveis X \n",
        "    resposta = model1.predict(pacientes) #Realizamos as predições usando o Modelo com melhor desempenho\n",
        "    target.append(resposta[0]) #E salvamos a resposta na nossa lista"
      ],
      "metadata": {
        "id": "qXsV3245Lx-m"
      },
      "execution_count": null,
      "outputs": []
    },
    {
      "cell_type": "markdown",
      "source": [
        "Com as nossas respostas salvas, podemos agora criar o CSV que precisamos submeter no Kaggle"
      ],
      "metadata": {
        "id": "85sJ1l2DeIO_"
      }
    },
    {
      "cell_type": "code",
      "source": [
        "#Gerando DataFrame de submission\n",
        "tabela_submission = {} \n",
        "tabela_submission['id'] = list(range(414,690)) #Inserindo os ID's correspontes \n",
        "tabela_submission['target'] = target #Inserindo nossas respostas/saídas\n",
        "\n",
        "tabela_submission = pd.DataFrame(tabela_submission) #Criando nosso Dataframe\n",
        "\n",
        "#Salvando o dataframe num arquivo CSV\n",
        "tabela_submission.to_csv('submission.csv', index=False)"
      ],
      "metadata": {
        "id": "YknBMeY7Nw8N"
      },
      "execution_count": 81,
      "outputs": []
    },
    {
      "cell_type": "markdown",
      "source": [
        "**Resultado informado no Kaggle**\n",
        "\n",
        "\n",
        "![aaaaaaa.png](data:image/png;base64,iVBORw0KGgoAAAANSUhEUgAAA3sAAADhCAYAAABx2KxbAAAAAXNSR0IArs4c6QAAAARnQU1BAACxjwv8YQUAAAAJcEhZcwAADsMAAA7DAcdvqGQAAEL6SURBVHhe7d2JtxXVge/x/CWvu99Kv/R7naTT/ZLuvHQ6JprRxMTWRKPROM8g8yCOoCggIDKLMgnKpKjgiAjiiMzzPM+TgCAoitnvfDd3H+sW59wBuIDl97NWrcs9Ne3aVeeyf2fvqvONDz/8MOzbty/s378/fPTRR3E6ePBg+Pjjj8OhQ4fC4cOH4/TJJ5+ETz/9NBw5ciR89tln5enzzz+P09GjR8MXX3xRdfrb3/5WniRJkiRJTcuwJ0mSJEkFZNiTJEmSpAL6xp49e0I+8B04cKBi2GMi7GUDXwp79QW+bNgz8EmSJElS0zLsSZIkSVIBGfYkSZIkqYAMe5IkSZJUQIY9SZIkSSogw54kSZIkFZBhT5IkSZIKyLAnSZIkSQX0jVlz5ofZcxaEOfMWhbnzF4d5C5aE+QuXhoWLl5Wm5WHRkhVxWrx0ZZyWLl8dp2Ur1sRp+crstDasWLWu4rRy9fpa06o1G5ycnJycnJycnJycnJyaaLJnT5IkSZIKyLAnSZIkSQVk2JMkSZKkAjLsSZIkSVIBGfYkSZIkqYAMe5IkSZJUQIY9SZIkSSogw54kSZIkFVA57O3du7dW2Dt48GCtwJfC3qefflor7OUDX6Wgx2TYkyRJkqTTx7AnSZIkSQVk2JMkSZKkAjLsSZIkSVIBGfYkSZIkqYAMe5IkSZJUQIY9SZIkSSogw54kSZIkFZBhT5IkSZIKyLAnSZIkSQVk2JMkSZKkAjLsSZIkSVIBGfYkSZIkqYAMe5IkSZJUQIY9SZIkSSogw54kSZIkFZBhT5IkSZIK6Bu7du0KBD7C3r59+8phLxv48mGPqVrYO3r0aIPCnoFPkiRJkpqOYU+SJEmSCuisCXtH/3Y0zNu+NHR5s3/4+cirwrcHnB/+R++fxOmbj54XfvTEJeG2l+4LU9e9F44c/axmLUmSJElSJWc87B08cigMnP1U+LfBfyiHu/omwl+rV7uGnR9/GLchSZIkSartjIW9L/72RXh59YzwnYG/rRjoGjL9/SM/DQ++NSj2CqpuPFSH8/lVs3PnznDppZeHK668Kl6jdeH66927T/juv/xbmDnzg5pXJUmSpK+nMxL2Pv38SLj7jd7h73qfUyu8fXfg70LrVx8M09a/H/Z/cqCmiCF88vmnYcmuVaHHO4+HHwy5qNY6TBc8fWP48PD+mqW/etauXRtDyquvvlbzyqm1e/eecNnlV4T//PFPwvLlK2pePTU45/36DQjf+e73Qo+He4b16zeEG264KTw78bmaJU4c18rAgYPDN//xn8Ibb0yrefUY9vvyy6/Eepsw4ZkYZrFhw8bws3N/Hm688eZ4DUuSJJ1Js2bNju2V7PRo337h7bffKbdfim7VqtXhdxf8IU4ffDArtuEuufSymD2aAvU6efKL4eprrgsX//GS0Ldf/1J7eHfN3OOReYYOHXbceUoT81KnCe31SssMGDAo7NixIy6T8I0Hw4aPCH++7C91loOsRL20a98x/OHCi8JNN98a3nnn3fh6Fm3jFStWhi73d43LcXwcZ13X0WkPewS9li8/EP5Hry/DGr17DOVkSGd96MV7Y9374cdDL60V+M4dceVXdlgnvVB//w/fDN269ah55dTivF573Q3h/PMvCJs2bap59dSYP39+OO+8X8Zw17Fjp3gc9MTRI3eyeMNc8PsL45R982zcuDGGOfbFdHuLVvEaBdfgvfd2jgHxzTdnxNckSZLOlHHjxpfbLPmJD8j5UL4p0EYjEAwa/FjNK2cGQYQ24p133h2eeXZi7HygnTZ+/ISYDU41skvr1m2Pq2s6A1auXFWzVG2EsgsvvPi4ddLEPJahvF0ffKjiMhzX6tWra7Z4LOD+4pe/Pm65fDlou/Z5tG+sk/yyhEjmg31Tf9/61v85bjmOl+Ou5LSGPYZu3jW1d/i7XueUw97F45qFVXvW1xSn4QiG7aZ0r9U7+KfxzcOBI5UP9GzW1GGvKfEG5prh/DIdOHCwfFGerJdeejnWC+EtbXPtunXhJ+ecG37wgx+GFi1bx/nZsIdK60mSJJ0JKezdd1+XGBiY6J1h1BWvM4qJNtSpdra0Lzk22oqp94mfqZesKTz55Oh43C1btYnZhrbg02PGxjBVbeQXWYVl0/lJE+GKbXXqdFcsN+1N2p0EtsWLl9RaNu0LKeCyT/bN6+xj7Njx8TXmpfoglP/zt/8ldpZs3rw5vrZ167b4O68zH3TYnPfzX8V9L1mytNzu5jgpI+3fSk5r2Htu2ZTwzT7nHQt6pema5zqEvZ+c+PBLevl6vzesVuC7Y2rPUIodNUs0LU5S6iKu1OXKkMa//vWa0KzZ7bFukxdLJ4Pl+Ynsm3Hp0qVxeeb36vVIra7etB77ZD/sl27hGTPeivU+4623yq9NmjS5fMGxb7ZJWSgTOB9cpKm7mHVGjhwVv0Q/qe/4wDKvT51a5zKgNy51OVfaVyU9e/WO9ZIdEsonJvfce1+sl1Rv+bDHpyX/70c/jt3l2XqvJH+M1Af1kv2jSzkpL+XOL7Nnz4fhttuax/Wzvaa8b/jDwBCFZcuW1bwqSZK+blLYy4euOXPmxsY8bbTUJmpIu4SeOubNnTsvDoekfcL0wguT4vppGUZesV8+IGd52pGV2oSo1At4Ktt4hJjuPR6Oy1QbztiQYyevsH3ay5WQY3jOw//9/r/HQJSQaehFzYan+pCFCIc8C2LevGPrpO2nnr5q2B9DP594YlitcEk7lh7AbNs1DfOlXZvF9cL5S6+n274459k6SdcXPys5bWFvx8E94dzhV5aD3m+evC5sOVB7XOuJ4GsYWr7StRz2vtX3l2Hm5gU1c5sOx0qFU7kkbE4abybSOp8CIJ3Q/AWRPykptPAJz69/89vY5cuFxWvZIZFpvVtL4YJ9cZ8cv7MsXcpcwP/+Hz+Kr1GOFCbZN2XIdi/zZmU9JrbHGGrWa9u2fTzfDTm+7DI//q+fxjdmWoZPVdKFyPGl13/16/PjsqxT13BPysA+WS578XMtZbfL/HzYYzgEQz/pAaQnsBrW6dDxjrgN6oFhrnSNM/FGAtd/GgpAHVFXqd7YP3Vw/wNd4/zsJyr8geEPDX8QeE9JkqSvp9R+y4e9/IfT2XYJ7abzf/v72Cah/ZQd8phCAO2fbNuPKfUSVgt7ldqESG2qVMbGtvFYjv2lNh63D6UP3DlO2pIcC8dEW5DtsM3t27fHZRp67IMfGxKXybf9ktT2rvSBf//+A+O61UJRHvXF/lOvHlL90R4kALJN6mnatOnlZarhGDgWtknbkTquJj2gkHO7bPnymlePl9qpbLPa7UunLewNnj2mHPS+O+B3YdaWRTVFODHvbZ4XFmw/dvA8nOX80deVAx89hp990bTD99LJJlSksdZcsG3atItvAuqqsWGPAEEIQ7Zblu0hrccFTPcu9cqnBtnXuJDoIuY1Tj7nqtIbO/2hSPvj3PXp0zc8+GC3+OlLQ46Pa4eQSU8b1wnSA1JSyOF1Pgnij9H06W/G8rGv9AeEh7ukN3BW+uSEP4LVxldXC3uVjrcS3hS8OfgEKR0jnxSxXip/OofZT93oqWMIKb2nXO+Ug+1ku+SpI8o2bNjw+LskSfp6qhT2sm241H5I7RLaHLQDkYISE20spDYc7Sva77SjaGPR1sqGnHyAQ7U2Un7ZxrTxKDM9cpSD4+je/eG4rfQh+GuvTQnXXX9jeO+99+PvLEf7L7tMQ4+dgEXv4cSJz1dsP1ZrG6LSeaiGOrzyyqtj2KJ3MUm3E/3T//52LC/bS1P7DneU6yorjfQjDBNgO3e+P563SgjptL3JBIRiRu9VOs402o9gTFuZjhja15WclrC38+Ce8LNhV5TDHk/iPJkvRudpnTy5k+/b42EteGHF1PA/+/zstPXuUVe8oTgZw0eMjEErX8mNDXv5C5MgxusptFW6SCu9kdMnRWl7ld7YaYgkf2D4xCD/hmjI8WXx5mY/vFmzx5zKQtc511OSXq/W81Xtj1FWtXpryLq8cdINttknffI65eH4Od70pmZbhDuGHHBNZzGU878v+mPsGSQQUxbKxB+Iuj6NkSRJxZfabxdd/Kf4YTdttjSiKo0Uqqtdkl5PwYj1+T21I5FGNWXbnJXaiNXaSJWWTRrbxkvLZ19DamNt2bI1hsh0DI059vpUaxuiUju6mtSrRzDLtn8Jooz+4sP89PDAdevWxzYzy1d6sn4Ke6lnlBC5aNHimrm1EfZSzyfLDxo0OOavPMqXej+5hrp0eaBqgDwtYe+Nte+G//lIKYjV9OrN37YsnsATkYJe6sX73qAL4tcy7P/0YPjtUzeUX+f795oan1BwkXPhMFHhzZu3KF3EW+L8xoa9/MWX1k8XbKWLtNK6+fUqvbHpHqaLnXXTxB+e7CcI9R0f55ZPktIfLKb0SUc65mpvulSmfN0kLMs6dY2trm/b2ePNS9tnfbZTDXXBPYO8kdIx5t9ULMMnVBw3fwjTJ1982lXpEx5JkvT1kdpv2Sk1+hcsWBjbEXW1S/LtRtp82d9RqV1VqY1YrY2UX/Zk2nh5fFBOuynblqJ9x0+OoTHHXp90G00+gIIHpbCt+kZdkYcq9erVhZDKtrN1ncd5pp1NPRDM81/TkFVphF8lBOvUgVNtaOhpCXudp/Ur9+pd8UybcOizw+VA0Rj5oPfP/X8TXln95fjUR94fXp530dhbT8uTOTlmHq3KGFwuDCqbn9RlCl3ZNx7SxZYu3PRmyT89Mj2dJ72J0gWfvZAqvZEbEvbAOeBCm/L61HDX3feWPx1IN6GiruNLNxbTjUzIoYeL64l9pWNOx5AdBonUY5avm4SLl15H9pf/jr2k2h+Z9LSi1NNWSXb7aShrXVh+4cJF8Q8EZWa97BjuVBfcfMynLcxv6B8mSZJUXJXab3l1tUtSYz61K9hOvp2R2nrZdlWlNmK1NmEaTZaWPZk2XhbHxYNWCIl8HzMfiJMvUp3wszHHXh/afbT/aAdmH5xHe5Z2Ntuq1q5MqvXqIbWr80Ey1TU9kbSvWY+2MhNZKGH9fLBlW2wz25ZFvp1bbd/V8kbS5GHv0JHD4bIJrcphj6dnUgmNDXv1BT28u2lu+Me+P4/zv//Yf4cN+471QDUFLnq6ahmjnC6E1IWe3kDpguN3HrEL6pPeseyFm04m3bEMlwTbJDjwOjd/Ir0xsm/aSm/k+sIebyrWe+qpp8sXBecjdZWzn4YcXypP9g3IsEU+CUkXXPquvGwdgCGRrMubOwWmPIIVy6Tjz8u/CRKeasSbNP861zRDDtKbLt1Xl30zU/+cB8rM8fKHgjrgD12Shi1k31S8bxiSysN1eNBOdny5JEn6+qrUfqsktUto/6V2CW1z2hWEqjTSie2wXLb9ldp62bZJaielAALa9umplPQyIdvmTGVsTBuP11IPGPvh9h/WpXOjUrnYX3q4Xdp+Q4+decuXr6gzXNKBwbZ4hkU6btqgtEV5EGL6eoNK2GddvXrUKW1M2vJp9Fa2/lIvXOp4yLd/Uzsz+7TQ9OCY7LFn6zF1BjGUld+z+wbhlTJV6s1Ek4e9fYc/Cr9/6qYY9BjK+fzy1+MBpMpviIYEPazbt7kU8i6My7A8wzubSrrA6QnjJPGG4cKlstPwPS44en84MYy7JXxwcyZjtnktXeDpzcgFwbyHe/aKn5KwLULDmjVr4nLpjXeyYY/zlN5kdBFzkYwaNTrO5+LmzdyQ4yMA8Tuf+jB+OT3+l9fSm5rznJ48dM5Pz41PUeIrJdhuvhcxL9+zmVct7KWQmO32Zj7L8Xr6Kof0pCPKRn1T75SbZfhyS+op/WGjbqgj6ip1q+e7y9N+mfgUq1qIlSRJXx+V2m+VZNslPAhuzNhxsV3FutnRRA0Ne6kdRRuU7/jj0f20y3hiJ+vTDktPZOees2wZT6SNx7p33HFnHCmW2q+0F9NDXOjZe/vtd2I78Hv/+v1ax9DQY091mZ5nUQkfyrN/tkX7jmOnDliPAJUySPoqg2xbNHVGVOrVA/mIr2NgGUIh66c2e/Yp86xLW5LlqGe+UJ6hrOn2qPT0e1BPlJfX/3TJn2N79Jprr4/bZF3au6ATIn03I/f1Ud+0balvlk1Py89r8rC39aMd4YdDLi6HvTfWvRcrOVU0vW+TV06r+t14DQ162H5wV/jh43+My/GwFtZtStxcmSqdiYombROUEpI9N2Uyn5PB923Qo8bv6QJPoeWhh7rHE8Vy/M4bh16qpNIfixMJe+B8cyGnfTFx4cz84IPyuanv+DjfHE/aBm8knixFSMz+sWG5CROeKb/R0r6yx1ZJ+gORAmhepbCXPrHK96zxR4I3O2Xl+wgT7j9Mb1om5hNuudZBXRB0KW92GYJeelpUkoIhyzT0RmJJklRsldpv1VRql9AzR5soYTvMS+1IVAp7+XZa+rCbNmDbdh1iu46J78ibOvWNWmU8mTYegSX7ABJCFa+l+QTMR/v2i//OHkNDjn3KlNfj67SZ2Xc13AuZvd+Q0ET5s+uknrIUplJPIm25uu7Vy7ehqcObb7mt/EyLhLYnHQXZ519QDsJ2amcmBD6OnW2lZSlL/kEutMEJv2nfTLRRaaum9nveGQ17a/ZuDP817LL4peh93h9xXOCrL+h9/vnRcODgobD7w31hy7adYc36TWFJKcxMXfheGDTj6TBz3YLwWWmZppYCVV09OdQZ9dEQbIdz0dDlTwbnjH1V6vZN6ju+VN7sG6gSjqe+feXxBuSNUe0rGvIY682nWOl7ZrLYP+ehEo6xvmOg3A05TkmSpJPRkHZJQ7GNbGBKUhu+Lg1t4zGskh4uvsKr0hBL2mRkjIa0Aes7dtpyDWkTpn1W2xYjsvL39jUG22TbdbX/kcrBVF+52VZ9mQJp39RVfWLY4yk5bDgf+FLY46SxsWzYoxDVwl428GWHcTK9uHJ6PND9nxwIfxzXrBzkCHyPzRlbDnz1Bb19+w+Ebdt3he07SmXfuz98fIgvAj8aJ/7Na8zfWgqB+z/68pvr9dXCNTV/wYLw7rvvhf3799e8WhnXIkMW3n9/5nG9bpIkSWoatPkZUcXQRkLU2Y72JffC5W8FKqImD3t1PaBl4/6tsWcvG/iGzptQZ9Bjm5u3bA+7dh/rPm6InaVlWeeLL+r/FECSJElSw/EhO/fZ/fi/flrxu+bONmQdgh5f+F50TR72mLJfvXD5hNbh8GeflLsx84EvP2WDHttfs25TqSzHf7lgfQ6V1lmzbmNpG00/rFOSJEn6uuBeMh6Mx7Mh6huqqNPrtIS97Jeqf6f/+WHh9uW1LoRqgS/fo7d2ffVHpTYUYdEePkmSJElFd1rC3s6De8LPhl1R7t3rOKXHcak/PaylUtADwzBPpEcv79ChT8LmrdW/sV6SJEmSiuC0hD0m7tVLYe+f+/0mzN12/CNNU+Cr9DCWxtyjVx/u4WObkiRJklRUpy3sbf5oezhn6OXlwHfu8CvDzo+PD3Ar96wL722eV/Mb9+kdjU/VPNXYpvfvSZIkSSqq0xb2GLb53LIp4Zt9zisHvsufaR0OHDn+ez+y+B49vl7hVNu2Y1c4+PHx3wMiSZIkSUVwWsPeF3/7Itw1tXf4u17nHAt8vX8SfjPqurDlQPV76PjCdL4z71Rjm2xbkiRJkorotIY9pk8/PxJavvxAOewx/a++vwgDZz8Vjhz9rKZYX+JL0fmS9FONbW7ZVuwHtaxfvyGsWbOm5rdTg3PId6lwrk8Frql58+bH66yIeN8wfZUV/RxJkiQV1WkPeynw3f1G7/gl6inwpdDX7KXOYebmBeXhnXzdQlPcW8c2T8VXOWzcuDHccced4Q8XXhSaNbs9LF68JB5jU3nxpZfjVB/Oa8tWbcLWrdtqXvnS/Pnzw6DBj9X81jh8f0qvXo/Ec30qTJo0OQwfMbJJ6+xMov67PvjQCQe+lStXhRtuuCmeM/D+7HJ/1/jzZPDe5j3cEFxvffv1P2XnXJKkr5MhTwwNl115VZyuuf6mMHLU6NjWPlm00Y+U2uFNae26deG221uGAYMeCxOemRinprRk6dJwxdXXhs1bttS8cvKo//kLFtb8dmJoM41+emy48prrQqu27cOatetq5hyPeSzDssNGPBnzE7LXQZpYbt/+/XHi39l5LJ9s2bo13H1fl/j6Qz16lrLbnpo59TsjYY+JIZ0vr54RvjPwt7UCX35atGplabtnZ9h75513w6WXXh5/Un8LFy4KV155dXj55Vdqljj1xo0bH6f6LC29WeYvWFDzW20zZ34QunXrUfNbw3HeBg0aHObMmVvzysnheqKuitxjRJ317z8wvPnml0+XbQjeS088MSzcfMttMexxzsB1dnuLVvHnyeD8p23Whff65Mkvxr8HkiSp8R7u/Ugp4D0VPiy1s/fs2RPGP/NsaNO+40n/38p2Z86aVfNb03jv/ZlxpNjiJUtj0CMTNCXyBfsjO5wqJ1tPtOUGD3kidH+4V9hfykiz584N1914c9i4aVPNEl/iteYtW4ely5bFZQc9NiT0GzAoZiPau1wDaXq/1A5r2+GO+Pr2HTtC+zvujOun+al9zDVzS7Pbw8uvvhYOll7jJwGcgNgQZyzsMeHgkUNxCOe/Df5DxbA3deF7Z+UwTuqlTZt2sScva8OGjaF56QSkT2you+eeez707t0nTJs2vdybQt2+WjpZ9JQRBkaPfqrWpzwsx/Ksx/rpzZUNe7NmzY5Tkv09+2/qmnI+2rdfeP75F8L06W/WCnvVypi3Z8+xoJE+TWC7CxYsjOV//PGhYfPmL8Mz26Euxo4dH/eb7/Gsa59sh+2x3VWrVte8erzscitWrKy1/STVM59MsdywYcPj9Z6w72XLl8fXU33t3LkzjBw5Kpb7gw9mlf/gsB3Km53Wrl0b59V1PISqHg/3rFi+anj/vfHGtLidbDBLYY9hlZWOJ4v3Ix9EcBxcXykgchwXXfyn0LZt+zBhwjNxHxz7ktIfcs4X88H1+MyzEyseU0PPkSRJX3eEjWyP2OFSe7rjnXeXe5v4/3X6jBmhT7/+4YVJk8ttPtqar70+NaxesyaGhqfHjiu3FXmdHjC288zE52IPHyGEKcn+Thtk0eLFcTtDh4+o1XPGvBUrV1Wcx/4mPvdCLBtlzLYFKCflrTQvi3kbNm6MIbf/wEExOKY2EeUjGDGPY+KYJ5TaHh+V2kGMLGLZhLbR2PETYlahjfPu++/H7VEvhKOEcrxSasswb87ceaFHry/DXl31kHrY8vaU2k/0uhHIkhFPjqrYyzn66THh9VL7LTlQaocuXLQo5qUsslK3UttwWqlNDs7xfV0eiNdGHmW//8FucR1wDPGYSm3UhjjjYS85+rejYd72paHLm/3Dz0deFb494PwY9gbMGF06gWffA1oIaQzfTG/ISqi7jh07hVGjRsfgQ6O5T5++sZ6ob3oBu3d/OM4bMuSJ0KJl61jPzGc5lk/z2rbrEOdlw17236g2jzfLtdfdEHsep059I1z+lyvLYa+uMuYRBjp1uiuefxAE2C5BjrBw3fU3xm2gZ6/e4cYbbw4zZrwV59M7RWBAXfvk9xtvuiX2HhLgrrrqmhjG8hjeyL4JM2z/pptvjf/Oo55Z7s7SH0POGT2Jf/3rNWH79u1xPuW8+prr4uubNm2K9zgShPidT5YoZxo2S3nefvudOI0p/WG54sqrwo7SG7++OiRoMsQ3G+YbIx/2Lrn0svgax8M+CX+UISteQ4/2jeVi/1NKf0DpJeT9zXE0b94i9hxyTbAs1wrb5Zwyn0B/zbXXx+1v2bI1PPLIo2HgwMHxfdvQcyRJko4PewSz++7vGsMe/wf37T8wBiYCEUMF7763c/x/nQBzQ6l905P2YGneE8NGhHal/9cJBIQzegeHjRhZCi9LYtubfWT3k/2dwHZL6f9+hkkSsG5t3rLcM/Xue++H21u1ifPeeuedcHWpPcdQxNSjRJm4LeXR/gNiDxdtAcpHOZlH2Sg/x5HaPlmPPNovNCu1Vdg2+6BXigAIyndVqZ1G+TgmjpneLn7OeOvtGIhSyCHc8DsZhN4y9r9u/foYrlq0bhuDGvPu7XJ/LM+aNWvD8JFPht9deHE57FWrB/IMYatrt+7haM2H/MmqUnvrns731wpibI+evmyeISd16fpgDJijnno6BjTqNnUaZC1fsSJ0KLWpU/uN7XE+Hx86PF4v2fXy++Inv2fPdV3OmrBXzcGm+uqF7Sf31Qs0vrkXq67jYOjeA6WTni586pLeQBrG1DcN7tRLRp0T9ggczGe5dAGwPoGGB6NUC3SoNI9zyLYIBgn3yaWwV1cZ8zjmtB5Yh/MP6oH6SKGE5dhPkj2muvZJaLzr7nvj9QW2n69j1mP97NDIfJ0l1HM2hOLJJ0fHCZQzGxLZVwqzYF72mME+CFFpvfrqkDJUG3rJe4rhtvyshv1nw172uuG9yYcO2fObpPcm8stltwmulafHjK357RjqIdU94Zqgz9+BhpwjSZJ0DI33NIyTKTsML9/opw1NoCHosCwBgNAF2oqEvU01I6nywxOz4Q7Z3/NtNsIC67Jf9k85kvUbNpT3Qfsk/R+fDT35IFZpOwnlnJx53kT2mCkfvXVJNuzRo8bx79ixs1a9INvGoW3C/Wz0jtFLeFcpBKZgRlulU6nNkuqpWj2AEF7pHkjmcwxZlXri+Dc9rdyXSbAliHK+6KnMtpMow4Oldlg6Fixdtjz2NC5bviIGUQJpWo/jJ3TPnTc/Zip+/uHiS2qd67qc9WGPe+u2bjv1X6rOUz4/r7lATwS9XB063hHrpZps+EpSIzsfANjOnXfdExvj+VCVld1mfvuV5uX3g+z2s+sk+SCQ5MvFdcJwR3rGfnfBH8L3/vX75fXo2aKOkmw56ton1xsPIPnJOeeGe0tv1tmz5xx3rWTrKql0nOB3tsO1nGSPI3+sXMMMc23dum244PcXxnJkj5n5HNv40h+mVK766rBa2UAg/PVvfhvDVDV1batSXSTbtm0PAwYMCn++7C9xH7/45a/rDHvZY+DYqHvqjno477xflnueG3KOJEnSMQQFepfSgzf69O1f/tC2UpBIIS0bfECYIGAQNNCYsEebjd6mm29rHi79y5XhF6V2Aevm95HF/+30UtFDddkVV4UL/3hJuWcxvy/ky5PQ40cIS7L7zG8nO4/982CYaW/OiIGH0EZOwbbt28OgIY/HYPWnP/8lXHTJZbFeKtVntlzV6qEulJ2Qm/1gnl7B2AuYyRLUC2WnvAm9nvSapnKDMJcN+JWwHkGX8oLe22tvuCmcU2qP8YAWennz9V/NWR/2sP+jA2HX7uMbyieKbbHNk8H9awxTzPYYgfu9OpcuCOqQxnO2t4Rjfuih7rFnpK5GO/NZrlIdZRvl+QZ6pXlsP9sThGxvFctUK2Me4SD1ZnL+OU4e3kHZkQ0Q+TDBsEnKwfXVkH2yfXozGXKZ7cED+6OXKRuQOD6ePpp9MyFfz+BeOIZvIl9O7lcjyHB+KRfzUl2BIZ1pSG1S3/FQNo49W4bGyJYxfzzZ6yaL9y/3jrIedZlfLn/c6XpJGN7JfrZs2RLfv6zH+tnjruscSZKkYwgb1RrmBI38cEB6uiY+/0Kt4IMTDXv0VhFMaMOwDaR1aTfxYJDUe5hFwGD/PAkytgUyvVlsN9sjR/m5jyzdI5iVLyf3vhFk2He+zPljZqgr4eaNadPDwMFD4n5o47A+wzo5tmy95OuTn6n3rq56qAu9nJQp28akp5L7/rLYfhqem1CvlDUdD1kp36sHypPKhOx6bDcbDDkmhqk29Amj5bDHRlPY279/fwwr2bDHlA97TCcT9pgaavPWHeHQ4S8r4UQdOnQ4butU4P4mGtTUH6gjwlC6t4leG4YQEgBBOOE+KO7zqqvRznyWS2GGcdLcb8Xr2Ub5sxOfi/f8cR4Y4sl9YWleWo5zwhDD1BPFsvTGpABTVxnzuPeLe99S+M8GLq4d7mFLAYLtd+/xcNw/+2X/aahjXfvkgSjUa7o+uK+M48xjGCb3xlXafhb1y71o3DsIrmeGWKZwUin0pODGdcsDSFJdUc7bbmteLndSXx3yO8M+qbcTkS1jQ8Me87Mhn3PHk2PTcoTdKVNej/9Gul4S9peCPRNDclPPXkPPkSRJqjvspSF6K2sedraz1C7nPjKGOuaDTzbUgHvhsg8DISByf19sF5ba8DxUhP2yHj1TDMPE3r37wvU33RpDDm12hkemIYO0o1IYyQYnJgJO6tmjfJST8oLycxwcTx7H3+uRR8ttNvaVhoDWF/Zot9GjR69W6h1kHkEoBVSGS3KfIfWSr0+C2iWXXxGPpa56AMNXmfLydZQ9RyCMkZuY99Irr8Zj5RykY+UeQn5HtV49hvamc5evo9Q7mNqZDPVkqCqhtyG+MmHviy/+FtasO/4Rp43FNhqz37pwvDzN8D9++J9xmNsPfvDDGPRSNy/7oefrvJ//Kg6FYyhd6u2pr9HOciwfh9CV1n996tS4vWyjnIb8raXw8Z3vfi8OpST8pHnZ5bg4CCO/+vX58fsAeTIjIQZ1lTEvvuFKFyj3FYIeQtZjmzwghSkb9u5/oGu48MKL434JSSl41LVPlmFZ1jn//AviUFmuxzzKQg8cQxPz28+ifikXIZV9/ezcn8dwwrlDPuxRV9Tl+b/9fSw7x8AyXPMM7fz7f/hmrYl166vDl0p/HHlq5ok6kbBHmQhkHC9lYh0+DEjL8dUclLdL6T8N3sfZ6wXUL3VP3TJE9777upTv2WvoOZIkSXWHPdAbxlBEhkpe9Kc/x54n/h+vL+xxnxfLE84IHLTlW7ZpF8795W/iMEV6f9J+eXIlyzKMlODAlEJOWu/iSy+LwyEJK7RlaQsQKnidIY8PPNS9fM8e5aOccZulclP+Sr164Pjpnbv8r1fHbbGvFNTqC3vgCZeUl/KAffOgFe5bY98sT7BN9cJXGlAuykwopEcwHWu1eiC7UMYePXvH3JJXq45K66dzBIZtErxB+5KH5lA2hr1mj5V5lXr1QH2zjUrrsZ+p06aHC/774nDJZVfEoat8iN9QX5mwB7ZLWDt0qPE9fPTosS7bONU4Duqq0sUB6oX6rDa/GpZnPdY/WZSR3r9q22poGQkE2QevVFsvBRTmpzdnXl37pD4JFvVhGZatJhuOWJZrtj7UFeVqyLJZlY6HbdCTSu/fmcD+KVNj32tJXeehoedIkiTV7VS2+aqpq90F7oEjGOXbP7TjCHiV1LdNpKGSLFutTXgisj1qeeyL3s1q8+orczWUn/WzRjw5qtZ9emCZ1PnTGBxTtbqmvHzPXmPbdF+psAd6+BiG2Zh7+Fh2S2mdE9mfauP64AEl/KxLvsfsTMn3hJ1ufA/h0KFf9iRKkiSdjRieeMdd95SfxHmqpLBXRGQevgbiVNfZqfSVC3vJvv0Hwtbtu+JXKPCdeXxJOk/uZOLfvMY8nrp5sg9jUePx/Ws85ORM4xrlYSP8lCRJUmX0TvFddyfTPq+EbfI1CkVEXTHK6VTX2an0lQ17INjxXXl8OfqWbTvC2vWb48S/eY15lEWSJEmSvm6+0mFPkiRJklSZYU+SJEmSCsiwJ0mSJEkFZNiTJEmSpAIy7EmSJElSARn2JEmSJKmADHuSJEmSVECGPUmSJEkqIMOeJEmSJBWQYU+SJEmSCsiwJ0mSJEkFZNiTJEmSpAL6xo4dO8ph78MPP6wV9g4cOFAr7B0+fLgc+FLYY8qGvWqBr1LQS5MkSZIk6dQy7EmSJElSARn2JEmSJKmADHuSJEmSVECGPUmSJEkqIMOeJEmSJBWQYU+SJEmSCsiwJ0mSJEkFZNiTJEmSpAIy7EmSJElSARn2JEmSJKmADHuSJEmSVECGPUmSJEkqIMOeJEmSJBWQYU+SJEmSCsiwJ0mSJEkFZNiTJEmSpAKKYW/nzp3lsLd3795aYe/gwYPlwEfYYyLsZQNfQ8KegU+SJEmSTh/DniRJkiQVkGFPkiRJkgrIsCdJkiRJBWTYkyRJkqQCMuxJkiRJUgEZ9iRJkiSpgAx7kiRJklRAhj1JkiRJKiDDniRJkiQVkGFPkiRJkgrIsCdJkiRJBWTYkyRJkqQCMuxJkiRJUgEZ9iRJkiSpgAx7kiRJklRAhj1JkiRJKqBy2Nu1a1c57O3bt69W2GPKhr1PPvmkVtj77LPPKoY9JuZ/WNrmxx8fqhXumLdv3/7SPvfGiX1VCn37SsFz9px5Yc3adXHbCcuyzuHDn9S8EuL8/fs/Ki/HvLTdI0c+i9vKboMAyvLZbfDa5s1bwgez5pTqZVfFMu3evSfOp0wsX0na9t69+8pTKkuaR5kS/s1rzEvzs+UCdZg9nrR8Fq+zr+y2wbayZcnPTzjPCxYuCouXLqu4DPW3dNnyeE4OlK4LSZIkSWenJg97L78yJfz12pvCo/0HxXkEFSYCXqt2d4TbWrQJLdt2DNfd1Cx07/lI3A9Y9pmJL4Rrb7w1NG/VLtxwS/PQ8a77ws5du+N8wssDDz0cnp/0YvwdhK9Wbe+IP8E8lmFZgl77TveEKa9Pi/OwcuXq0KxF27Bs+Yr4O8fdtXvPWJbbW7eP+35i2MhYFlDu5ye9FK4vzafMlKl7zz5x+3kEqnR8lInp0f6DwyelekvzHu7dN9YfCE+8xjz2M3TEqNCjV59y4KJe7u3yYHh67IT4e3b5JK131XU3h3ETJta8egx1wXFR7luatYplf3XK1LgO+Dl9xtvxdcrMMs1ativXJaj7dnfcHedzTm68tUUshyRJkqSzT5OGPZZ9qEfvcN/9D8WQsX37jhgqmFLYmzV7bvx948ZN4fZW7cPCRUtiwRYsWhxuvb1NWLR4afyd/RPE+g4YXLPtxoU99pEPUAQiAhTbZv6IJ58Kd3fuGvaXjh2rVq+Jwebtd9+Pv6eQNvOD2fH3HTt2hvse6BaWr1gVf89Ky1YKQ2ne1dffEl57/Y34Wj68zVuwMLRo3SH2MoJgSsDiJyqFPQJtxzvvjcfMcTD8NsnXxTvvzawV5jZu2hzrf9qbb8X5nMchTwwv1w/YRpeu3cOh0nllmYnPTwqDhwwLn9WEYUmSJElnjyYNeytXrQ4t23QMc+bODx063RPefOudGBKY8mFv27btsTdt7rwFsWD0YGWDGQhZbTrcGUNNY8MeCJIpQHE8BJnUA0YwIiBle/4oV7+Bj4XBjw+Lv6d17rynSwxj1YZCIgU6esv4N1MqR5r3+NCR8ZjXrVt/XHj76KMDMbil8mSDKSqFPeqS+iEoMy/1WCJfFwQ2gtvkl16Jv894+924P/abrF6zNm5n/YaN8XdC7/U3Nw9jxj9TdYirJEmSpLNDk4a9MeOeCfc/2CPeazZsxKg4TPPTT4/UCntpmCPDB+m5S2FmwODH45SVDTgnEvayAYoeMoJfWjYFMPaRlS8H23hy9JjYC0bP3Ogx4+Ix56XtMaQyTamsaR7hjODEcROE07Elw0eOjoGXcEvQyx5rPuxR3/R6DnzsiXhOWI/1k3xd5OsvPx/5+uS8zZu/MHR+oFscEtq2w11h3foNcZ4kSZKks0uThT3Wvee+B8L1NzeLvXu33t46DsvcsGFjrbA36umx4YVJL8V75xYvOTZkE4SPNBRx7br1YcPGTeGVV18v9z6lsPLsc5Nq1jjWE8Vw0WphD6nHcPTT40K3hx+J5UfaXronDsxjmRSaODYeipLC3fIVK8MtzVuXeyOzqoVHZOdRr+z37lJd5cMePXO89vob0+NPhrom+bC3Y+eu8v14BDR+co8iQRH5usjfw0jwJPwyNDXJDyUltDOBuhk4+IkYVLkPUZIkSdLZpcnC3rJlK2Lv1/wFi8KePR+GTZs3hzvv6Rwf2JINe4QM1mGoZPaBJekeMnq+GEZIyCPAZB88Qg8bDwzZVAojhELuH+t0d+fyUyIrhT169AidNzdrGcNjFvfP0dNIeCPAEIRYNt0nR+gh/Mx4653SMX4Rn0rJ8uk+w6wU6LLDOKlPjj3NS0GQewPZTza8gTqnR48gnA2myIc9hli2bt8p1hWvsU3CH4EN1AX3Tm7bXjrfu3aHJ4Y/GeuUcwNCLA/AYdgq5WQ5hnmmeyRB6OU1luUaGDDo8eOG2kqSJEk6OzRJ2GN68qkxMRjQE5S+TuCpMePjsM5Dhw7XCnsEIMJdizYd44NDkiVLl8ehggyBvOaGW+Py3NuXUCaecMlwSpZhWXr3kkphLwUowlW2pwyU+4XJL8UhpWyPB6LMnjsvlg/85AmWN93WMs5v7DDOVJZ82GO7POWTsJYNeyDcsm4+mGbDHvvv1adfHMKZykpAe6TvgPJr1EUqB+Xm3GzZui0um/D7PZ27lpch6B08+OVDXgiGrJetb4dxSpIkSWenJr1njykFPSZCR7WpPizDQ0SmTJ1W2m7t75Zjn6d7KCEPOOGYvo7ORH1LkiRJapyvTNiTJEmSJDWcYU+SJEmSCsiwJ0mSJEkFZNiTJEmSpAIy7EmSJElSARn2JEmSJKmADHuSJEmSVECGPUmSJEkqIMOeJEmSJBVQDHtMhL3du3dXDXwff/xxOfAR9phS2MsHvhMJe0ySJEmSpFPDsCdJkiRJBWTYkyRJkqQCMuxJkiRJUgEZ9iRJkiSpgAx7kiRJklRAhj1JkiRJKiDDniRJkiQVkGFPkiRJkgrIsCdJkiRJBWTYkyRJkqQCMuxJkiRJUgEZ9iRJkiSpgAx7kiRJklRAhj1JkiRJKiDDniRJkiQVkGFPkiRJkgroG9u3b49hb+fOnTHs7dmzpxz29u/fXyvsMTU27GUDX6WAl50kSZIkSaeGYU+SJEmSCsiwJ0mSJEkFdNrDHj9XrVoVhgx5IvTq9UitqXfvPhWnR/v2C2+//U7cjyRJkiSpfqc97E2f/mb45j/+U/j7f/hmo6eevXrH7atprFu3Pkye/GKdoXrr1m1h7Njx8To4m3GdvDplali/YWPNK2fO0aNfhClTp4Wly5bXvCJJkqSTRXvvmWcnhov/eEn4w4UXNWi6/4GuMet8XZz2sDd27LiKQa4h0+0tWp22kMEx8TTSUzm8dO3atWHVqtU1v50c6n/NmjWxvvn3suXL479PFMfbqdNdYc6cuTWvHMM2uRbStvn5QNcHw5tvzoi/n63mLVgYHu7dNx5X1scfH4pTNUeOfFa67j+K12vW4cOflN4X++J86oDtUy/ZeWmqtP7KlavDg917xSfaSpIk6eStXr06/OePf1IxN9Q1jRo1umYLxWfYq2LmzA9O6f6oo7vuvjdO+QDSWJSpfYc7wrXX3RDOP/+C8LsL/hD6PNq3HMhOxPz588OttzWP5zpZtGhx+NMlf45vIt5MCXXToeMdJ30cTYVA1qNXnzDj7XdrXjkWjoePHB2uvv6WMGDw4zWvHm/2nHmhVbs7YmhLdu7aHdrdcXcY8sTwWMdbtm4NLVp3CFOnvRnnPz/pxXDVdTfXmm66rWX4YNacOB8Ewod69I4hUZIkSSfvRMNe1wcfOqUdOmczw14VpzrsnUrUd+rJ4/wsX77ipIIe+vcfGKfkqafHhPN+/qswfMTIcMHvL6wV9rhmLv/LlbVeO5ts3rwldLzz3vgT20vXN7/36TcwdO/5SKPCHj1xXbv3LAe9Sgh7Dzz0cAx04Dp/572ZoW2Hu8KOnbvia3h67IQw8LEnvjZ/XCRJkpqSYa9+Zyzs/fmyv4RJkyaHl156Ofzs3J+H5s1bhFdffS0+iIV/9+nTN7Rs1Sbe38fDXK659vpGhy8a6ozjvfqa68K993YOS5curZkT4r6YEo5hwoRn4lBLpLDHRdTl/q7hpptvDS+//EpcLmH9mR98EGa89Va47vobQ99+/WPdMVSTddq17xgWL15Svpjy++QL7IcNHxGuuPKq0L37w2HLlmPhBHWVne2xXS5U9jty5Kg45DSLczn4sSFxfX7yezWffvppaN26bXjjjWk1r4QwY8ZbpXN/MB4/45uzwY5zQN1kl89LZaTslequ2rFznOPGja+1LNcgoXPz5s01r9Rt7rwF4Z7OXeP1ii1bt4XFS5bGMhH0Ghr2OAeEQ6bs8EuGgT41ZnxYt35D/D0f9sD69AYuXrqs5pVj2747Uy5JknT2oi2YDwlp+sEPfhjbWLRlaRPrzEhhr6HhLZ1Tw95pCHtTp74RPvhgVjnscQ/YrFmzy2GPmyenTHk9DlOcN29+/NmYsEeZuAetY8dOYUmpoU/YuOjiP4WVK1fF+d269YhTkgIMFwH4ef5vf18OKgQbAidPB009PKz/179eEx5/fGgMRwyDvPTSy8NDD3WPvw8dOiz84pe/Lgel7D6p36uuuib0eLhnnM/YYX7nPNRX9hdLdfbj//ppeO6558P8BQtioGrbtn25btauWxd749g/9clP6o97/CoheF1y6WVxKGdepbAHjoNQVs3Eic/HnsFnJz4X66L57S3jvX7UXV3HvmnTpnDZ5VeEDZkHq3BtULcNDUmEL4ZxMpwzr6Fhj6Gb9ObRq5cNeiDIsQzLolLYW7R4aWjf6Z5aPXtr1q4Lne7uEteXJElnP9qvdEBwy0z60JnX1q/fEO688+7YKUG7hfaLTj/akYa9up2xsDf5xZfChRdeHP/NlMIeweS7//Jv4b8v+mPsGeIrGQgLvJkaE/YIMASxFJDAkyQpK7LBC5XC3r//x49iGRLWp0eSIZRgfYJWCn/si6cBpTd8vscsu08uTsq3e/ee+Dvb4Fzws76yc26yvYCsRw8ZIY867t7j4dCv34DyRcxPesYI0KmsWeyPT6fygQ681tiwl8Jc9mEv7IMeyF27dtV57EyUM207/f7kkw2/kZbwVS3QNSTsNW/VLgweMizcenvr+ITSvEph77qbmoWWbTuGVm3viPfztet4V7nnLzHsSZL01UObhDYrbZks2ld88P7P3/6X2FHR0A+lderQpjTs1e2sCXv0mhGKaFwToHjjzJ49J4Yc7iVjmRPp2WMffJ3Atm3bYxmSbPBCpbBHgMoOj2Sb9LbRG4n8NrjgCE3ZPwbZUJRdnvq98sqry8e9Z8+H5YuuvrKD8i5cuCjOp75SDyLn6sYbb47BOYteO/aVH+6JSuEyYZuNDXv0RlKGSvtCXccOgn+Llq3jMXJtsly2p68+hK9+Ax+r+CZuSNjjASsMwez5SN8G9+y1Ly0/4613wnul6+add98PfQcMLgW7zrGHMDHsSZL01VMt7IF2b+fO98dOibP9SeVFZNir31kzjJOhkAw5TGGPZQh57PuGG25qdNgD5WKbbI9hjwQMjhPZ4IVKYa9Zs9trNfQpPxdHpfCGxoQ9sG3u4aP3j7HfPGEzfSpUreyUgXv5WJ7hA/SW0fPJfPbPeeMpnfngxu8Eukp/qFIdp2PPqhT2KBuhlyGalRA0CXtst5q6jp3wR1npQeUPZ2Of/MlTOPPDKpOGhL2bm7UMq1aviWUk7I148qlafxAqhb38/ngf8ECYcRMm1rwSwsJFS+LQzn2l95UkSfpqqCvs4Z133o3tVL4PWqeXYa9+Z/QBLQzR5D4uhktyzxn3w3G/GyeNZeitItAwrPNEwl7aJygXX3uQnjg5bNjw44IX4S4b9rjPjfpJqIdsr1k+vDU27FGmhF4wQlrqNaxWdpajpys7RJIypqdjpiCWtpPQg0awYmhpHvvhon96zNiaV75UKeylMlS6xw+V7rvjeFgvHXNdx055GIbKOSLs5o+lPqvXrA0d77ovhsa8hoQ9glzqfdu4aXMcmvn+zFnxdzQk7OHZ5ybV2teU16dVvZdQkiSdneoLeylwNLadqpOX6t6wV90ZC3snMjXmTcTJ56Em6f46nixJmEvBix4j7gvkPjeOhR4yho5mw94//e9vxwDK8VH+sWPHx3vRqBvkwxv7bGjYe/fd92JAY5gq+MlDUthvXWXn+BniyMNrqE/qm/vZfnLOuXE9EOwIW9lt8zsPdqmGdQiJHGsW28yHPf598y23leuBMlC216dOLZeJIQ18wsX2eI1evFR3dR17QpA877xfxu/54/psDK7T+x7oFnvS8hob9kDQu711+9jbh/rCHj95ImiLNh3D2+++H1+jDvjahVdefT3+LkmSvhoMe2evVPeGveoKG/bYF/ez/ccP/zOGBoIcX4fAMYCf/M4Y62996//EwMTNtdmwx++8zjDD7/3r92PwSF/NgJMJe9TTE08MC9/57vfK5eN3Xq+v7PQsnvPTc8P/+9GPY9kGDRochz2mQMY2+BoJ5v3f7/977Bnle/N4vRoenEKAy98bxzbzYY86yT4whXLx1NLsF8ZzDbVt1yGWnWPkKVYLar5QvK5jT9I2qz1Upj4EsKEjRh33Rj6RsMc2GMrZtVvP0nvh44phL/+l6gS919+YHq978FTOzqUAmn06pyRJOvvVF/YcxnnmGPbqV9iwl1AejiWFkBPBugw1bIqLgm1TvkqBpq6yU5/1HVdav9K2K+FeQIZOpoBSCdcK5yH1ytWH81Wt7uo69pPFEM6HevQOm7dsrXnlzOHYJz4/OYwZ/8zX5g+LJElFUVfYow3DaCY+uM7eYqPTI4U9Ojb42jE6KOqa6GQgU4weXft5DEV22sPe9Olvxt60fJBryMQnJk0RDCRJkqRKqoU92rXjx0+I7drs9x3r9CEX8MX2PAukUrirNPHMEDLP18U3tm3bVg57DOUj7HExp7BHr0y1sMfDPrJhLwW+usIeP5cuWxbeeuvt4yaePllt4ovV2Y8kSZJ0OtBure9L1W+9rXkpPBz77mDpbHPaw15dkyRJknQ2SPd3VZp4LgIPz+NrxGjjSmcrw54kSZIkFZBhT5IkSZIKyLAnSZIkSQVk2JMkSZKkAjLsSZIkSVIBGfYkSZIkqYAMe5IkSZJUQIY9SZIkSSogw54kSZIkFZBhT5IkSZIKyLAnSZIkSQVk2JMkSZKkAjLsSZIkSVIBGfYkSZIkqYAMe5IkSZJUQDHsbd++/biwt3fv3nLYO3DgQDnsHTp0qNFhLwW+SgEvP0mSJEmSTp5hT5IkSZIKyLAnSZIkSQVk2JMkSZKkAjLsSZIkSVIBGfYkSZIkqYAMe5IkSZJUQIY9SZIkSSogw54kSZIkFZBhT5IkSZIKyLAnSZIkSQVk2JMkSZKkAjLsSZIkSVIBGfYkSZIkqYAMe5IkSZJUQIY9SZIkSSogw54kSZIkFZBhT5IkSZIK6Btbt26NYW/Hjh0x7O3evbsc9vbt21cOewcPHiyHvcOHD5fDXgp8KewxGfYkSZIk6cwy7EmSJElSARn2JEmSJKmADHuSJEmSVECGPUmSJEkqIMPeabB3774w8LEnwsjRY8Kkl14Jc+cvKOyxSpIkSTo7nNVhj3XSlJ+H7PxjU+1lWIeyVVoXrEN5K62XtplfN83LYxvHtnX8vDVr14XpM94Kb739bhg0ZGjY8+HemjlfYrufff551bJKkiRJUmOctWHvw1IgembiC+HpsRPCmHHPhBcmvxzWrd9QMzeEffv3hwnPPh/np+mNaTPC4VK5vihtZ/mKVWH8s8+FwUOGlZZ7Lqxdt75mzWPBasnS5XG7jz3O/OfDylVrYhmZ5sydF+exzbHjnw2vTpkajx9r1qwLE5+bFPbv/yj+zvKsS1kHl7bFeosWL6l1LPx76bLlYdyEieH9mbNqzTt69IuwcNHiuJ/Hh46IP5ctX1lrGUmSJElqrLM27K1fvzG0btcpjHpqbHhu0uTQuWu30K7j3aUQtzLO37xlS7j19taxp2zyy6/E6b2ZH8Ty7NnzYbi3y4Oh34DHwuy580PvRweEezp3LR3P/rgu4apFmw6he89HwvOTXiz97BM63d05bNi4KX4p/JNPjQkd77w3bnPEqKdCs5btwrARo+K86W++FZqXft+6bXvc1rbtO0Kne7qELl27x2317tM/tGzTMcydtyDOB/VDkLv6+ltiuQ4cOBYcOd458+aHNh3uDF279QzPlkIk89t2uCssLYVRSZIkSTpRZ3XYu7MUoghgYP89ej0aujzYPRwq7Z+w17xVuzBr9tw4P2vZ8hWhQ6d7w+o1a+PvO3buDBOfnxSDGeuynfsf7FE6nkNxPj/7DhgcXnv9jXLY69WnX5xHuUePGRc63HlPvPcuH/bGjns2dHv4kdjTCLZFyCTcURcgfN513/3h8WEjQ7MWbcuB9dNSvQ0YPKQURvvHOoqvlerzwe69wtDhT5bq+NP4miRJkiQ11lcm7OHV114Pt7duH0MbYe+2Fm1iqHr1talxqCUhj30xBJTARM/dcy9MDvPmL4zlxbZSSGvX8a4w6cWX4+8Jx3DkyGflsEcgZB32RfCjx+3gwY9rhT2Wv78UPp+Z+HxcL6EO2F7y/gezw30PPBSHod57/0Ol4Dk5LkMPH9vlXr4sQiehdm+p/iVJkiTpRHylwl42aBH2bmneKnR+oFvo239w6DfwsfDmjLfj/tnOrl27w7TS8g906xl7AJlPWVm3bYc7w5RSoKokhb2bm7WMQzsZYtm8Vfswc9aceAzZMrA99v/cCy+W1jvWM5fHOux76Ah66j6J4bNHzz6lej0QPirV6z1duob3Zs6qWfqYadNnxBC4p3QeJEmSJOlENGnY++jAwbB+45awcvX6sGLVuviz2lRf2COEjX56XGjf6Z4YguoaxsnwRx6gkgLm7Lnzwm23twkzP5gdQ2CnezqHYSNHxzKCbfN1CCtXrS6HPe7j2717T/zKhAceejgeL7Jhj2Uf7v1ovJ+PB8OAbc5fuCjMnjMv/nvLlq3h1uatwy3NWoVmLduGW0vlaNG6Q1i9ek2sS3ogCYvp2CnzU2PGh0f6Dox1fjJWrdng5OTk5OTk5OTk5FTQac26TWHTlu3h40OHaxJAVgj/H//ONJmvpTlbAAAAAElFTkSuQmCC)\n"
      ],
      "metadata": {
        "id": "R7U2hNrZehU6"
      }
    },
    {
      "cell_type": "markdown",
      "source": [
        "E essa foi a pontuação resultada pelo kaggle"
      ],
      "metadata": {
        "id": "m4IIxgrLfhxQ"
      }
    },
    {
      "cell_type": "markdown",
      "source": [
        "#Predição com o modelo de Menor desempenho\n",
        "\n",
        "Com as observações acima, vamos tentar agora com um outro modelo treinado."
      ],
      "metadata": {
        "id": "a62oUOW7fzNq"
      }
    },
    {
      "cell_type": "code",
      "source": [
        "#Usamos a mesma logica acima, mas criamos um novo arquivo ao final\n",
        "target_lower = [] #Lista do target\n",
        "\n",
        "for i in range(276): #Informamos para que percorra todo o arquivo de teste\n",
        "    pacientes = [[base_test['gravity'][i],base_test['ph'][i],base_test['osmo'][i],base_test['cond'][i], \n",
        "                  base_test['urea'][i],base_test['calc'][i]]] \n",
        "    resposta = model3.predict(pacientes) #Realizamos as predições usando o Modelo com menor desempenho\n",
        "    target_lower.append(resposta[0]) #E salvamos a resposta na nossa lista"
      ],
      "metadata": {
        "id": "j5PdkYvHgJBT"
      },
      "execution_count": null,
      "outputs": []
    },
    {
      "cell_type": "code",
      "source": [
        "#Gerando DataFrame de submission\n",
        "tabela_submission_2 = {} \n",
        "tabela_submission_2['id'] = list(range(414,690)) #Inserindo os ID's correspontes \n",
        "tabela_submission_2['target'] = target_lower #Inserindo nossas respostas/saídas\n",
        "\n",
        "tabela_submission_2 = pd.DataFrame(tabela_submission_2) #Criando nosso Dataframe\n",
        "\n",
        "#Salvando o dataframe num arquivo CSV\n",
        "tabela_submission_2.to_csv('submission_other.csv', index=False)"
      ],
      "metadata": {
        "id": "8CyiTlf_gW56"
      },
      "execution_count": 83,
      "outputs": []
    },
    {
      "cell_type": "markdown",
      "source": [
        "**Resultado do Kaggle - Menor Desempenho**\n",
        "![image.png](data:image/png;base64,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)"
      ],
      "metadata": {
        "id": "5SphTCUAhLV2"
      }
    },
    {
      "cell_type": "markdown",
      "source": [
        "Em comparação com o outro modelo, podemos observar que a diferença foi bastante e podemos levar isso em consideração, já que pode gerar resultados \"falsos\".\n",
        "\n",
        "Ou seja, usar o Random Florest foi a melhor opção nesse caso, já o seu desempenho foi bem melhor em comparação com o KNN. \n",
        "\n",
        "Talvez isso tenha ocorrido porque o Random florest ele combina o resultado de múltiplos modelos para produzir a melhor predição, e como temos muitos dados, o KNN provavelmente teve um espaço alto e dificultou sua analise.\n"
      ],
      "metadata": {
        "id": "JVwPLZMnhWQg"
      }
    }
  ]
}