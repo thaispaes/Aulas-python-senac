{
  "nbformat": 4,
  "nbformat_minor": 0,
  "metadata": {
    "colab": {
      "provenance": [],
      "authorship_tag": "ABX9TyOkz1tXUiypxx6bixdD0rN3",
      "include_colab_link": true
    },
    "kernelspec": {
      "name": "python3",
      "display_name": "Python 3"
    },
    "language_info": {
      "name": "python"
    }
  },
  "cells": [
    {
      "cell_type": "markdown",
      "metadata": {
        "id": "view-in-github",
        "colab_type": "text"
      },
      "source": [
        "<a href=\"https://colab.research.google.com/github/thaispaes/Aulas-python-senac/blob/main/Atividade_Extra.ipynb\" target=\"_parent\"><img src=\"https://colab.research.google.com/assets/colab-badge.svg\" alt=\"Open In Colab\"/></a>"
      ]
    },
    {
      "cell_type": "code",
      "source": [
        "#Imprima uma sequência de números pares entre 100 e 150.\n",
        "import numpy as np\n",
        "numPar = np.array([range(100,150,2)])\n",
        "numPar"
      ],
      "metadata": {
        "colab": {
          "base_uri": "https://localhost:8080/"
        },
        "id": "0ELWIkEef6y0",
        "outputId": "8bbacbf3-35bd-41ba-a3d5-d025ce46b95a"
      },
      "execution_count": null,
      "outputs": [
        {
          "output_type": "execute_result",
          "data": {
            "text/plain": [
              "array([[100, 102, 104, 106, 108, 110, 112, 114, 116, 118, 120, 122, 124,\n",
              "        126, 128, 130, 132, 134, 136, 138, 140, 142, 144, 146, 148]])"
            ]
          },
          "metadata": {},
          "execution_count": 9
        }
      ]
    },
    {
      "cell_type": "code",
      "source": [
        "#Faça a correção dos erros no código abaixo e execute o programa.\n",
        "temperatura = float(input(\"Qual a temperatura? \"))\n",
        "if temperatura > 30:\n",
        "  print('Vista roupas leves.')\n",
        "else:\n",
        "  print('Busque seus casacos.')"
      ],
      "metadata": {
        "colab": {
          "base_uri": "https://localhost:8080/"
        },
        "id": "b7nUS6NayJzX",
        "outputId": "a448c18f-052b-4020-9a70-e447629900e1"
      },
      "execution_count": null,
      "outputs": [
        {
          "output_type": "stream",
          "name": "stdout",
          "text": [
            "Qual a temperatura? 45\n",
            "Vista roupas leves.\n"
          ]
        }
      ]
    },
    {
      "cell_type": "code",
      "source": [
        "'''Considere a lista abaixo e retorne apenas os elementos cujo\n",
        "índice for maior que 5.'''\n",
        "lista = ['a', 'b', 'c', 'd', 'e', 'f', 'g', 'h']\n",
        "print(lista[5:])"
      ],
      "metadata": {
        "colab": {
          "base_uri": "https://localhost:8080/"
        },
        "id": "p6arJJ4Zy7tw",
        "outputId": "fcbc19e9-cdbc-4862-ab1b-405c9d5b2657"
      },
      "execution_count": null,
      "outputs": [
        {
          "output_type": "stream",
          "name": "stdout",
          "text": [
            "['f', 'g', 'h']\n"
          ]
        }
      ]
    },
    {
      "cell_type": "code",
      "source": [
        "'''Usando o que foi visto em sala, crie uma estrutura que\n",
        "pergunte ao usuário qual o dia da semana. Se o dia for\n",
        "igual a domingo ou igual a sábado, imprima na tela\n",
        "\"Hoje é dia de descanso\", caso contrário imprima na\n",
        "tela \"Você precisa trabalhar!\" '''\n",
        "\n",
        "diaSemana = input(\"Qual o dia da semana: \").upper()\n",
        "if diaSemana == 'DOMINGO' or diaSemana == 'SABADO':\n",
        "  print(\"Hoje é dia de descanso\")\n",
        "else:\n",
        "  print(\"Você precisa trabalhar!\")"
      ],
      "metadata": {
        "colab": {
          "base_uri": "https://localhost:8080/"
        },
        "id": "kz_akghi0EA1",
        "outputId": "dfb51271-c5fc-45ca-8f42-93ad6a91a49c"
      },
      "execution_count": null,
      "outputs": [
        {
          "output_type": "stream",
          "name": "stdout",
          "text": [
            "Qual o dia da semana: domingo\n",
            "DOMINGO\n",
            "Hoje é dia de descanso\n"
          ]
        }
      ]
    },
    {
      "cell_type": "code",
      "source": [
        "#Faça um Programa que peça as 4 notas bimestrais e mostre a média.\n",
        "nota = int(input(\"Informe a sua 1º nota: \"))\n",
        "nota = nota + int(input(\"Informe a sua 2º nota: \"))\n",
        "nota = nota + int(input(\"Informe a sua 3º nota: \"))\n",
        "nota = nota + int(input(\"Informe a sua 4º nota: \"))\n",
        "print(\"Média: \", nota/4)"
      ],
      "metadata": {
        "colab": {
          "base_uri": "https://localhost:8080/"
        },
        "id": "Q5IgKX-P1g4C",
        "outputId": "9de783ba-ad4c-430e-e157-83aa5f06bc5d"
      },
      "execution_count": null,
      "outputs": [
        {
          "output_type": "stream",
          "name": "stdout",
          "text": [
            "Informe a sua 1º nota: 2\n",
            "Informe a sua 2º nota: 2\n",
            "Informe a sua 3º nota: 2\n",
            "Informe a sua 4º nota: 2\n",
            "Média:  2.0\n"
          ]
        }
      ]
    },
    {
      "cell_type": "code",
      "source": [
        "#Faça um Programa que converta metros para centímetros.\n",
        "metros = float(input(\"Informe a quantidade de metros: \"))\n",
        "centimetros = metros*100\n",
        "print(centimetros)"
      ],
      "metadata": {
        "colab": {
          "base_uri": "https://localhost:8080/"
        },
        "id": "MOfl61m_3nJC",
        "outputId": "0e439dfc-1545-4c93-86b5-9d3d560c4ba4"
      },
      "execution_count": null,
      "outputs": [
        {
          "output_type": "stream",
          "name": "stdout",
          "text": [
            "Informe a quantidade de metros: 2\n",
            "200.0\n"
          ]
        }
      ]
    },
    {
      "cell_type": "code",
      "source": [
        "''' Faça um Programa que pergunte quanto você ganha por hora e o\n",
        "número de horas trabalhadas no mês. Calcule e mostre o total do\n",
        "seu salário no referido mês.'''\n",
        "\n",
        "ganhoHora = float(input(\"Informe quanto você ganha por hora: \"))\n",
        "horaMes = int(input(\"Informe quantas horas trabalhadas: \"))\n",
        "\n",
        "print(\"Total: \",ganhoHora * horaMes)"
      ],
      "metadata": {
        "colab": {
          "base_uri": "https://localhost:8080/"
        },
        "id": "YiDH1ksN5EDr",
        "outputId": "0e352683-438e-4bfb-bdab-b848d00b8e88"
      },
      "execution_count": null,
      "outputs": [
        {
          "output_type": "stream",
          "name": "stdout",
          "text": [
            "Informe quanto você ganha por hora: 4.30\n",
            "Informe quantas horas trabalhadas: 2\n",
            "Total:  8.6\n"
          ]
        }
      ]
    },
    {
      "cell_type": "code",
      "source": [
        "''' Faça um Programa que peça 2 números inteiros e um número\n",
        "real. Calcule e mostre:\n",
        "- o produto do dobro do primeiro com metade do segundo .\n",
        "- a soma do triplo do primeiro com o terceiro.\n",
        "- o terceiro elevado ao cubo. '''\n",
        "\n",
        "numInt1 = int(input(\"Informe um numéro inteiro: \"))\n",
        "numInt2 = int(input(\"Informe o segundo numéro inteiro: \"))\n",
        "numReal = float(input(\"Informe um numéro real: \"))"
      ],
      "metadata": {
        "colab": {
          "base_uri": "https://localhost:8080/"
        },
        "id": "6foKPUpQ56J0",
        "outputId": "feca147e-e084-4603-bff2-a4df8293c285"
      },
      "execution_count": null,
      "outputs": [
        {
          "name": "stdout",
          "output_type": "stream",
          "text": [
            "Informe um numéro inteiro: 2\n",
            "Informe o segundo numéro inteiro: 2\n",
            "Informe um numéro real: 2.5\n"
          ]
        }
      ]
    },
    {
      "cell_type": "code",
      "source": [
        "#Produto do dobro do primeiro com metade do segundo \n",
        "produto = (numInt1**2) * (numInt2/2)\n",
        "print(produto)"
      ],
      "metadata": {
        "colab": {
          "base_uri": "https://localhost:8080/"
        },
        "id": "UKLSI6mb6BjC",
        "outputId": "67f321a6-e198-480f-cbc6-37f20bf5ffc4"
      },
      "execution_count": null,
      "outputs": [
        {
          "output_type": "stream",
          "name": "stdout",
          "text": [
            "4.0\n"
          ]
        }
      ]
    },
    {
      "cell_type": "code",
      "source": [
        "#Soma do triplo do primeiro com o terceiro.\n",
        "soma = (numInt1 **3) + numReal\n",
        "print(soma)"
      ],
      "metadata": {
        "colab": {
          "base_uri": "https://localhost:8080/"
        },
        "id": "RTkvwVYM6_EL",
        "outputId": "e8921f75-319c-42fe-a640-dfdc8d500a84"
      },
      "execution_count": null,
      "outputs": [
        {
          "output_type": "stream",
          "name": "stdout",
          "text": [
            "10.5\n"
          ]
        }
      ]
    },
    {
      "cell_type": "code",
      "source": [
        "#Terceiro elevado ao cubo.\n",
        "print(numReal**3)"
      ],
      "metadata": {
        "colab": {
          "base_uri": "https://localhost:8080/"
        },
        "id": "KMkmwbs27R8z",
        "outputId": "e9cba942-b3fc-4a18-828f-ca61dc12f1db"
      },
      "execution_count": null,
      "outputs": [
        {
          "output_type": "stream",
          "name": "stdout",
          "text": [
            "15.625\n"
          ]
        }
      ]
    },
    {
      "cell_type": "code",
      "source": [
        "''' Faça um Programa que pergunte quanto você ganha por hora e o número de horas trabalhadas no mês.\n",
        "Calcule e mostre o total do seu salário no referido mês, sabendo-se que são descontados 11% para o\n",
        "Imposto de Renda, 8% para o INSS e 5% para o sindicato.\n",
        "Faça um programa que nos dê:\n",
        "salário bruto.\n",
        "quanto pagou ao INSS.\n",
        "quanto pagou ao sindicato.\n",
        "o salário líquido.\n",
        "calcule os descontos e o salário líquido '''\n",
        "\n",
        "\n",
        "ganhoHora = float(input(\"Informe quanto você ganha por hora: \"))\n",
        "horaMes = int(input(\"Informe quantas horas trabalhadas: \"))\n"
      ],
      "metadata": {
        "colab": {
          "base_uri": "https://localhost:8080/"
        },
        "id": "uX-gLJb37uX9",
        "outputId": "5f9e3021-33df-435d-8bd0-5e4529fb03e0"
      },
      "execution_count": null,
      "outputs": [
        {
          "name": "stdout",
          "output_type": "stream",
          "text": [
            "Informe quanto você ganha por hora: 2\n",
            "Informe quantas horas trabalhadas: 2\n"
          ]
        }
      ]
    },
    {
      "cell_type": "code",
      "source": [
        "#Calculos \n",
        "salarioBruto = ganhoHora * horaMes\n",
        "valorInss = salarioBruto * 0.08\n",
        "valorSind = salarioBruto * 0.05\n",
        "valorImposto = salarioBruto * 0.11\n",
        "descontos = valorInss + valorSind + valorImposto"
      ],
      "metadata": {
        "id": "T-EUVDxq9Vex"
      },
      "execution_count": null,
      "outputs": []
    },
    {
      "cell_type": "code",
      "source": [
        "#Resultado\n",
        "print(\"Valor bruto -> R$\",salarioBruto) \n",
        "print(\"Pago ao INSS -> R$\",valorInss) \n",
        "print(\"Pago ao Sindicato -> R$\",valorSind) \n",
        "print(\"Pago de Imposto de renda -> R$\",valorImposto) \n",
        "print(\"Salário liquído -> R$\",salarioBruto - descontos)"
      ],
      "metadata": {
        "colab": {
          "base_uri": "https://localhost:8080/"
        },
        "id": "Xalp3x1p9Zqd",
        "outputId": "294f2a2b-8659-4a67-8431-945e1c9b835f"
      },
      "execution_count": null,
      "outputs": [
        {
          "output_type": "stream",
          "name": "stdout",
          "text": [
            "Valor bruto -> R$ 4.0\n",
            "Pago ao INSS -> R$ 0.32\n",
            "Pago ao Sindicato -> R$ 0.2\n",
            "Pago de Imposto de renda -> R$ 0.44\n",
            "Salário liquído -> R$ 3.04\n"
          ]
        }
      ]
    },
    {
      "cell_type": "code",
      "source": [
        "''' Faça um programa que peça o tamanho de um arquivo para\n",
        "download (em MB) e a velocidade de um link de Internet (em\n",
        "Mbps), calcule e informe o tempo aproximado de download do\n",
        "arquivo usando este link (em minutos). '''\n",
        "\n",
        "tamanhoArquivo = float(input(\"Informe o tamanho do arquivo: \"))\n",
        "link = float(input(\"Informe sua velocidade: \"))\n",
        "print(\"Seu tempo de download é: \", tamanhoArquivo/(link*60))"
      ],
      "metadata": {
        "colab": {
          "base_uri": "https://localhost:8080/"
        },
        "id": "ujvOTCA37u-_",
        "outputId": "082db9e4-485c-4b70-f9e9-92a84277691a"
      },
      "execution_count": null,
      "outputs": [
        {
          "output_type": "stream",
          "name": "stdout",
          "text": [
            "Informe o tamanho do arquivo: 1000\n",
            "Informe sua velocidade: 200\n",
            "Seu tempo de download é:  0.08333333333333333\n"
          ]
        }
      ]
    }
  ]
}